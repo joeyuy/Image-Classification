{
  "nbformat": 4,
  "nbformat_minor": 0,
  "metadata": {
    "colab": {
      "provenance": [],
      "include_colab_link": true
    },
    "kernelspec": {
      "name": "python3",
      "display_name": "Python 3"
    },
    "language_info": {
      "name": "python"
    }
  },
  "cells": [
    {
      "cell_type": "markdown",
      "metadata": {
        "id": "view-in-github",
        "colab_type": "text"
      },
      "source": [
        "<a href=\"https://colab.research.google.com/github/joeyuy/Image-Classification/blob/main/Image_Classification.ipynb\" target=\"_parent\"><img src=\"https://colab.research.google.com/assets/colab-badge.svg\" alt=\"Open In Colab\"/></a>"
      ]
    },
    {
      "cell_type": "markdown",
      "source": [
        "## Introduction"
      ],
      "metadata": {
        "id": "_Z3-8nia3eQH"
      }
    },
    {
      "cell_type": "markdown",
      "source": [
        "$\\rightarrow$ This notebook will train an image classification model imported from keras to identify pokemon by their elemental types. The pokemon image data comes from [Kaggle](https://www.kaggle.com/datasets/vishalsubbiah/pokemon-images-and-types?resource=download&select=images). The model trains itself over 8 trials with randomized parameters selected from predetermined options. The final results of this notebook include an 18 by 18 confusion matrix that shows the model's predictions for the primary type of all pokemon, and a 3 by 3 matrix for the model's predictions on only Fire, Water, and Grass type pokemon."
      ],
      "metadata": {
        "id": "OMV3sSJq6mdR"
      }
    },
    {
      "cell_type": "markdown",
      "source": [
        "## Import the necessary libraries"
      ],
      "metadata": {
        "id": "tRV8BJlC6TlE"
      }
    },
    {
      "cell_type": "markdown",
      "source": [
        "$\\rightarrow$ Importing some but not all of the necessary libraries. Some libraries get imported later to combat potential runtime issue problems."
      ],
      "metadata": {
        "id": "8Nzobdzt6soN"
      }
    },
    {
      "cell_type": "code",
      "execution_count": 1,
      "metadata": {
        "id": "GFh95yulPTLE"
      },
      "outputs": [],
      "source": [
        "import glob\n",
        "from PIL import Image\n",
        "from io import BytesIO\n",
        "import numpy as np\n",
        "import pandas as pd\n",
        "import matplotlib.pyplot as plt\n",
        "from skimage.io import imread\n",
        "from sklearn.model_selection import train_test_split"
      ]
    },
    {
      "cell_type": "markdown",
      "source": [
        "## Load in the data"
      ],
      "metadata": {
        "id": "lGf-DHGf6eh0"
      }
    },
    {
      "cell_type": "markdown",
      "source": [
        "$\\rightarrow$ Importing the data from google drive and github."
      ],
      "metadata": {
        "id": "mvnVmwtC68c-"
      }
    },
    {
      "cell_type": "code",
      "source": [
        "from google.colab import drive\n",
        "drive.mount('/content/drive')"
      ],
      "metadata": {
        "colab": {
          "base_uri": "https://localhost:8080/"
        },
        "id": "-aX0qNBvP96H",
        "outputId": "16b38a8e-3fc6-4c72-bdf3-67b1c1cf10da"
      },
      "execution_count": 2,
      "outputs": [
        {
          "output_type": "stream",
          "name": "stdout",
          "text": [
            "Mounted at /content/drive\n"
          ]
        }
      ]
    },
    {
      "cell_type": "code",
      "source": [
        "files = glob.glob(\"/content/drive/MyDrive/colab_notebooks/pokemon_images/*.png\")"
      ],
      "metadata": {
        "id": "P7LvRF4ePjS6"
      },
      "execution_count": 3,
      "outputs": []
    },
    {
      "cell_type": "code",
      "source": [
        "df = pd.read_csv(\"https://raw.githubusercontent.com/joeyuy/Image-Classification/main/pokemon.csv\")"
      ],
      "metadata": {
        "id": "sxi8tNXvRxy9"
      },
      "execution_count": 4,
      "outputs": []
    },
    {
      "cell_type": "code",
      "source": [
        "df.head()"
      ],
      "metadata": {
        "colab": {
          "base_uri": "https://localhost:8080/",
          "height": 206
        },
        "id": "lcxoGbOoR-p4",
        "outputId": "9c8feaf6-f209-4019-9330-57f8976a05d1"
      },
      "execution_count": 5,
      "outputs": [
        {
          "output_type": "execute_result",
          "data": {
            "text/plain": [
              "         Name  Type1   Type2   Evolution\n",
              "0   bulbasaur  Grass  Poison     ivysaur\n",
              "1     ivysaur  Grass  Poison    venusaur\n",
              "2    venusaur  Grass  Poison         NaN\n",
              "3  charmander   Fire     NaN  charmeleon\n",
              "4  charmeleon   Fire     NaN   charizard"
            ],
            "text/html": [
              "\n",
              "  <div id=\"df-2ffba709-111b-4fe7-ba5b-0426767a27b1\" class=\"colab-df-container\">\n",
              "    <div>\n",
              "<style scoped>\n",
              "    .dataframe tbody tr th:only-of-type {\n",
              "        vertical-align: middle;\n",
              "    }\n",
              "\n",
              "    .dataframe tbody tr th {\n",
              "        vertical-align: top;\n",
              "    }\n",
              "\n",
              "    .dataframe thead th {\n",
              "        text-align: right;\n",
              "    }\n",
              "</style>\n",
              "<table border=\"1\" class=\"dataframe\">\n",
              "  <thead>\n",
              "    <tr style=\"text-align: right;\">\n",
              "      <th></th>\n",
              "      <th>Name</th>\n",
              "      <th>Type1</th>\n",
              "      <th>Type2</th>\n",
              "      <th>Evolution</th>\n",
              "    </tr>\n",
              "  </thead>\n",
              "  <tbody>\n",
              "    <tr>\n",
              "      <th>0</th>\n",
              "      <td>bulbasaur</td>\n",
              "      <td>Grass</td>\n",
              "      <td>Poison</td>\n",
              "      <td>ivysaur</td>\n",
              "    </tr>\n",
              "    <tr>\n",
              "      <th>1</th>\n",
              "      <td>ivysaur</td>\n",
              "      <td>Grass</td>\n",
              "      <td>Poison</td>\n",
              "      <td>venusaur</td>\n",
              "    </tr>\n",
              "    <tr>\n",
              "      <th>2</th>\n",
              "      <td>venusaur</td>\n",
              "      <td>Grass</td>\n",
              "      <td>Poison</td>\n",
              "      <td>NaN</td>\n",
              "    </tr>\n",
              "    <tr>\n",
              "      <th>3</th>\n",
              "      <td>charmander</td>\n",
              "      <td>Fire</td>\n",
              "      <td>NaN</td>\n",
              "      <td>charmeleon</td>\n",
              "    </tr>\n",
              "    <tr>\n",
              "      <th>4</th>\n",
              "      <td>charmeleon</td>\n",
              "      <td>Fire</td>\n",
              "      <td>NaN</td>\n",
              "      <td>charizard</td>\n",
              "    </tr>\n",
              "  </tbody>\n",
              "</table>\n",
              "</div>\n",
              "    <div class=\"colab-df-buttons\">\n",
              "\n",
              "  <div class=\"colab-df-container\">\n",
              "    <button class=\"colab-df-convert\" onclick=\"convertToInteractive('df-2ffba709-111b-4fe7-ba5b-0426767a27b1')\"\n",
              "            title=\"Convert this dataframe to an interactive table.\"\n",
              "            style=\"display:none;\">\n",
              "\n",
              "  <svg xmlns=\"http://www.w3.org/2000/svg\" height=\"24px\" viewBox=\"0 -960 960 960\">\n",
              "    <path d=\"M120-120v-720h720v720H120Zm60-500h600v-160H180v160Zm220 220h160v-160H400v160Zm0 220h160v-160H400v160ZM180-400h160v-160H180v160Zm440 0h160v-160H620v160ZM180-180h160v-160H180v160Zm440 0h160v-160H620v160Z\"/>\n",
              "  </svg>\n",
              "    </button>\n",
              "\n",
              "  <style>\n",
              "    .colab-df-container {\n",
              "      display:flex;\n",
              "      gap: 12px;\n",
              "    }\n",
              "\n",
              "    .colab-df-convert {\n",
              "      background-color: #E8F0FE;\n",
              "      border: none;\n",
              "      border-radius: 50%;\n",
              "      cursor: pointer;\n",
              "      display: none;\n",
              "      fill: #1967D2;\n",
              "      height: 32px;\n",
              "      padding: 0 0 0 0;\n",
              "      width: 32px;\n",
              "    }\n",
              "\n",
              "    .colab-df-convert:hover {\n",
              "      background-color: #E2EBFA;\n",
              "      box-shadow: 0px 1px 2px rgba(60, 64, 67, 0.3), 0px 1px 3px 1px rgba(60, 64, 67, 0.15);\n",
              "      fill: #174EA6;\n",
              "    }\n",
              "\n",
              "    .colab-df-buttons div {\n",
              "      margin-bottom: 4px;\n",
              "    }\n",
              "\n",
              "    [theme=dark] .colab-df-convert {\n",
              "      background-color: #3B4455;\n",
              "      fill: #D2E3FC;\n",
              "    }\n",
              "\n",
              "    [theme=dark] .colab-df-convert:hover {\n",
              "      background-color: #434B5C;\n",
              "      box-shadow: 0px 1px 3px 1px rgba(0, 0, 0, 0.15);\n",
              "      filter: drop-shadow(0px 1px 2px rgba(0, 0, 0, 0.3));\n",
              "      fill: #FFFFFF;\n",
              "    }\n",
              "  </style>\n",
              "\n",
              "    <script>\n",
              "      const buttonEl =\n",
              "        document.querySelector('#df-2ffba709-111b-4fe7-ba5b-0426767a27b1 button.colab-df-convert');\n",
              "      buttonEl.style.display =\n",
              "        google.colab.kernel.accessAllowed ? 'block' : 'none';\n",
              "\n",
              "      async function convertToInteractive(key) {\n",
              "        const element = document.querySelector('#df-2ffba709-111b-4fe7-ba5b-0426767a27b1');\n",
              "        const dataTable =\n",
              "          await google.colab.kernel.invokeFunction('convertToInteractive',\n",
              "                                                    [key], {});\n",
              "        if (!dataTable) return;\n",
              "\n",
              "        const docLinkHtml = 'Like what you see? Visit the ' +\n",
              "          '<a target=\"_blank\" href=https://colab.research.google.com/notebooks/data_table.ipynb>data table notebook</a>'\n",
              "          + ' to learn more about interactive tables.';\n",
              "        element.innerHTML = '';\n",
              "        dataTable['output_type'] = 'display_data';\n",
              "        await google.colab.output.renderOutput(dataTable, element);\n",
              "        const docLink = document.createElement('div');\n",
              "        docLink.innerHTML = docLinkHtml;\n",
              "        element.appendChild(docLink);\n",
              "      }\n",
              "    </script>\n",
              "  </div>\n",
              "\n",
              "\n",
              "<div id=\"df-94bc46a8-5eeb-47bf-a4fc-bd6e637a9bfd\">\n",
              "  <button class=\"colab-df-quickchart\" onclick=\"quickchart('df-94bc46a8-5eeb-47bf-a4fc-bd6e637a9bfd')\"\n",
              "            title=\"Suggest charts\"\n",
              "            style=\"display:none;\">\n",
              "\n",
              "<svg xmlns=\"http://www.w3.org/2000/svg\" height=\"24px\"viewBox=\"0 0 24 24\"\n",
              "     width=\"24px\">\n",
              "    <g>\n",
              "        <path d=\"M19 3H5c-1.1 0-2 .9-2 2v14c0 1.1.9 2 2 2h14c1.1 0 2-.9 2-2V5c0-1.1-.9-2-2-2zM9 17H7v-7h2v7zm4 0h-2V7h2v10zm4 0h-2v-4h2v4z\"/>\n",
              "    </g>\n",
              "</svg>\n",
              "  </button>\n",
              "\n",
              "<style>\n",
              "  .colab-df-quickchart {\n",
              "      --bg-color: #E8F0FE;\n",
              "      --fill-color: #1967D2;\n",
              "      --hover-bg-color: #E2EBFA;\n",
              "      --hover-fill-color: #174EA6;\n",
              "      --disabled-fill-color: #AAA;\n",
              "      --disabled-bg-color: #DDD;\n",
              "  }\n",
              "\n",
              "  [theme=dark] .colab-df-quickchart {\n",
              "      --bg-color: #3B4455;\n",
              "      --fill-color: #D2E3FC;\n",
              "      --hover-bg-color: #434B5C;\n",
              "      --hover-fill-color: #FFFFFF;\n",
              "      --disabled-bg-color: #3B4455;\n",
              "      --disabled-fill-color: #666;\n",
              "  }\n",
              "\n",
              "  .colab-df-quickchart {\n",
              "    background-color: var(--bg-color);\n",
              "    border: none;\n",
              "    border-radius: 50%;\n",
              "    cursor: pointer;\n",
              "    display: none;\n",
              "    fill: var(--fill-color);\n",
              "    height: 32px;\n",
              "    padding: 0;\n",
              "    width: 32px;\n",
              "  }\n",
              "\n",
              "  .colab-df-quickchart:hover {\n",
              "    background-color: var(--hover-bg-color);\n",
              "    box-shadow: 0 1px 2px rgba(60, 64, 67, 0.3), 0 1px 3px 1px rgba(60, 64, 67, 0.15);\n",
              "    fill: var(--button-hover-fill-color);\n",
              "  }\n",
              "\n",
              "  .colab-df-quickchart-complete:disabled,\n",
              "  .colab-df-quickchart-complete:disabled:hover {\n",
              "    background-color: var(--disabled-bg-color);\n",
              "    fill: var(--disabled-fill-color);\n",
              "    box-shadow: none;\n",
              "  }\n",
              "\n",
              "  .colab-df-spinner {\n",
              "    border: 2px solid var(--fill-color);\n",
              "    border-color: transparent;\n",
              "    border-bottom-color: var(--fill-color);\n",
              "    animation:\n",
              "      spin 1s steps(1) infinite;\n",
              "  }\n",
              "\n",
              "  @keyframes spin {\n",
              "    0% {\n",
              "      border-color: transparent;\n",
              "      border-bottom-color: var(--fill-color);\n",
              "      border-left-color: var(--fill-color);\n",
              "    }\n",
              "    20% {\n",
              "      border-color: transparent;\n",
              "      border-left-color: var(--fill-color);\n",
              "      border-top-color: var(--fill-color);\n",
              "    }\n",
              "    30% {\n",
              "      border-color: transparent;\n",
              "      border-left-color: var(--fill-color);\n",
              "      border-top-color: var(--fill-color);\n",
              "      border-right-color: var(--fill-color);\n",
              "    }\n",
              "    40% {\n",
              "      border-color: transparent;\n",
              "      border-right-color: var(--fill-color);\n",
              "      border-top-color: var(--fill-color);\n",
              "    }\n",
              "    60% {\n",
              "      border-color: transparent;\n",
              "      border-right-color: var(--fill-color);\n",
              "    }\n",
              "    80% {\n",
              "      border-color: transparent;\n",
              "      border-right-color: var(--fill-color);\n",
              "      border-bottom-color: var(--fill-color);\n",
              "    }\n",
              "    90% {\n",
              "      border-color: transparent;\n",
              "      border-bottom-color: var(--fill-color);\n",
              "    }\n",
              "  }\n",
              "</style>\n",
              "\n",
              "  <script>\n",
              "    async function quickchart(key) {\n",
              "      const quickchartButtonEl =\n",
              "        document.querySelector('#' + key + ' button');\n",
              "      quickchartButtonEl.disabled = true;  // To prevent multiple clicks.\n",
              "      quickchartButtonEl.classList.add('colab-df-spinner');\n",
              "      try {\n",
              "        const charts = await google.colab.kernel.invokeFunction(\n",
              "            'suggestCharts', [key], {});\n",
              "      } catch (error) {\n",
              "        console.error('Error during call to suggestCharts:', error);\n",
              "      }\n",
              "      quickchartButtonEl.classList.remove('colab-df-spinner');\n",
              "      quickchartButtonEl.classList.add('colab-df-quickchart-complete');\n",
              "    }\n",
              "    (() => {\n",
              "      let quickchartButtonEl =\n",
              "        document.querySelector('#df-94bc46a8-5eeb-47bf-a4fc-bd6e637a9bfd button');\n",
              "      quickchartButtonEl.style.display =\n",
              "        google.colab.kernel.accessAllowed ? 'block' : 'none';\n",
              "    })();\n",
              "  </script>\n",
              "</div>\n",
              "\n",
              "    </div>\n",
              "  </div>\n"
            ],
            "application/vnd.google.colaboratory.intrinsic+json": {
              "type": "dataframe",
              "variable_name": "df",
              "summary": "{\n  \"name\": \"df\",\n  \"rows\": 809,\n  \"fields\": [\n    {\n      \"column\": \"Name\",\n      \"properties\": {\n        \"dtype\": \"string\",\n        \"num_unique_values\": 809,\n        \"samples\": [\n          \"aurorus\",\n          \"hariyama\",\n          \"houndour\"\n        ],\n        \"semantic_type\": \"\",\n        \"description\": \"\"\n      }\n    },\n    {\n      \"column\": \"Type1\",\n      \"properties\": {\n        \"dtype\": \"category\",\n        \"num_unique_values\": 18,\n        \"samples\": [\n          \"Grass\",\n          \"Fire\",\n          \"Fairy\"\n        ],\n        \"semantic_type\": \"\",\n        \"description\": \"\"\n      }\n    },\n    {\n      \"column\": \"Type2\",\n      \"properties\": {\n        \"dtype\": \"category\",\n        \"num_unique_values\": 18,\n        \"samples\": [\n          \"Poison\",\n          \"Flying\",\n          \"Ice\"\n        ],\n        \"semantic_type\": \"\",\n        \"description\": \"\"\n      }\n    },\n    {\n      \"column\": \"Evolution\",\n      \"properties\": {\n        \"dtype\": \"category\",\n        \"num_unique_values\": 32,\n        \"samples\": [\n          \"poliwrath\",\n          \"raichu\",\n          \"persian\"\n        ],\n        \"semantic_type\": \"\",\n        \"description\": \"\"\n      }\n    }\n  ]\n}"
            }
          },
          "metadata": {},
          "execution_count": 5
        }
      ]
    },
    {
      "cell_type": "code",
      "source": [
        "print(files)"
      ],
      "metadata": {
        "colab": {
          "base_uri": "https://localhost:8080/"
        },
        "id": "tiOB1YnsQHvJ",
        "outputId": "666062e0-208a-45d7-c4aa-6863cefd752f"
      },
      "execution_count": 6,
      "outputs": [
        {
          "output_type": "stream",
          "name": "stdout",
          "text": [
            "['/content/drive/MyDrive/colab_notebooks/pokemon_images/pawniard.png', '/content/drive/MyDrive/colab_notebooks/pokemon_images/rayquaza.png', '/content/drive/MyDrive/colab_notebooks/pokemon_images/joltik.png', '/content/drive/MyDrive/colab_notebooks/pokemon_images/unfezant.png', '/content/drive/MyDrive/colab_notebooks/pokemon_images/tropius.png', '/content/drive/MyDrive/colab_notebooks/pokemon_images/groudon.png', '/content/drive/MyDrive/colab_notebooks/pokemon_images/electrode.png', '/content/drive/MyDrive/colab_notebooks/pokemon_images/feebas.png', '/content/drive/MyDrive/colab_notebooks/pokemon_images/chimchar.png', '/content/drive/MyDrive/colab_notebooks/pokemon_images/xatu.png', '/content/drive/MyDrive/colab_notebooks/pokemon_images/glalie.png', '/content/drive/MyDrive/colab_notebooks/pokemon_images/heracross.png', '/content/drive/MyDrive/colab_notebooks/pokemon_images/exploud.png', '/content/drive/MyDrive/colab_notebooks/pokemon_images/drampa.png', '/content/drive/MyDrive/colab_notebooks/pokemon_images/swinub.png', '/content/drive/MyDrive/colab_notebooks/pokemon_images/inkay.png', '/content/drive/MyDrive/colab_notebooks/pokemon_images/scrafty.png', '/content/drive/MyDrive/colab_notebooks/pokemon_images/throh.png', '/content/drive/MyDrive/colab_notebooks/pokemon_images/pikachu.png', '/content/drive/MyDrive/colab_notebooks/pokemon_images/shellder.png', '/content/drive/MyDrive/colab_notebooks/pokemon_images/oddish.png', '/content/drive/MyDrive/colab_notebooks/pokemon_images/conkeldurr.png', '/content/drive/MyDrive/colab_notebooks/pokemon_images/terrakion.png', '/content/drive/MyDrive/colab_notebooks/pokemon_images/gible.png', '/content/drive/MyDrive/colab_notebooks/pokemon_images/volbeat.png', '/content/drive/MyDrive/colab_notebooks/pokemon_images/stakataka.png', '/content/drive/MyDrive/colab_notebooks/pokemon_images/forretress.png', '/content/drive/MyDrive/colab_notebooks/pokemon_images/plusle.png', '/content/drive/MyDrive/colab_notebooks/pokemon_images/bronzong.png', '/content/drive/MyDrive/colab_notebooks/pokemon_images/voltorb.png', '/content/drive/MyDrive/colab_notebooks/pokemon_images/froakie.png', '/content/drive/MyDrive/colab_notebooks/pokemon_images/galvantula.png', '/content/drive/MyDrive/colab_notebooks/pokemon_images/volcanion.png', '/content/drive/MyDrive/colab_notebooks/pokemon_images/nosepass.png', '/content/drive/MyDrive/colab_notebooks/pokemon_images/armaldo.png', '/content/drive/MyDrive/colab_notebooks/pokemon_images/altaria.png', '/content/drive/MyDrive/colab_notebooks/pokemon_images/misdreavus.png', '/content/drive/MyDrive/colab_notebooks/pokemon_images/lumineon.png', '/content/drive/MyDrive/colab_notebooks/pokemon_images/elekid.png', '/content/drive/MyDrive/colab_notebooks/pokemon_images/tepig.png', '/content/drive/MyDrive/colab_notebooks/pokemon_images/venomoth.png', '/content/drive/MyDrive/colab_notebooks/pokemon_images/sunkern.png', '/content/drive/MyDrive/colab_notebooks/pokemon_images/panpour.png', '/content/drive/MyDrive/colab_notebooks/pokemon_images/spinarak.png', '/content/drive/MyDrive/colab_notebooks/pokemon_images/meowstic-male.png', '/content/drive/MyDrive/colab_notebooks/pokemon_images/chandelure.png', '/content/drive/MyDrive/colab_notebooks/pokemon_images/zygarde-50.png', '/content/drive/MyDrive/colab_notebooks/pokemon_images/lilligant.png', '/content/drive/MyDrive/colab_notebooks/pokemon_images/illumise.png', '/content/drive/MyDrive/colab_notebooks/pokemon_images/spheal.png', '/content/drive/MyDrive/colab_notebooks/pokemon_images/mr-mime.png', '/content/drive/MyDrive/colab_notebooks/pokemon_images/flareon.png', '/content/drive/MyDrive/colab_notebooks/pokemon_images/lillipup.png', '/content/drive/MyDrive/colab_notebooks/pokemon_images/jigglypuff.png', '/content/drive/MyDrive/colab_notebooks/pokemon_images/riolu.png', '/content/drive/MyDrive/colab_notebooks/pokemon_images/bidoof.png', '/content/drive/MyDrive/colab_notebooks/pokemon_images/monferno.png', '/content/drive/MyDrive/colab_notebooks/pokemon_images/rowlet.png', '/content/drive/MyDrive/colab_notebooks/pokemon_images/piplup.png', '/content/drive/MyDrive/colab_notebooks/pokemon_images/alomomola.png', '/content/drive/MyDrive/colab_notebooks/pokemon_images/tapu-fini.png', '/content/drive/MyDrive/colab_notebooks/pokemon_images/tyrogue.png', '/content/drive/MyDrive/colab_notebooks/pokemon_images/gumshoos.png', '/content/drive/MyDrive/colab_notebooks/pokemon_images/piloswine.png', '/content/drive/MyDrive/colab_notebooks/pokemon_images/luxio.png', '/content/drive/MyDrive/colab_notebooks/pokemon_images/skiploom.png', '/content/drive/MyDrive/colab_notebooks/pokemon_images/azelf.png', '/content/drive/MyDrive/colab_notebooks/pokemon_images/growlithe.png', '/content/drive/MyDrive/colab_notebooks/pokemon_images/vaporeon.png', '/content/drive/MyDrive/colab_notebooks/pokemon_images/dewott.png', '/content/drive/MyDrive/colab_notebooks/pokemon_images/oranguru.png', '/content/drive/MyDrive/colab_notebooks/pokemon_images/zubat.png', '/content/drive/MyDrive/colab_notebooks/pokemon_images/charjabug.png', '/content/drive/MyDrive/colab_notebooks/pokemon_images/wimpod.png', '/content/drive/MyDrive/colab_notebooks/pokemon_images/magby.png', '/content/drive/MyDrive/colab_notebooks/pokemon_images/loudred.png', '/content/drive/MyDrive/colab_notebooks/pokemon_images/pignite.png', '/content/drive/MyDrive/colab_notebooks/pokemon_images/crabominable.png', '/content/drive/MyDrive/colab_notebooks/pokemon_images/kabuto.png', '/content/drive/MyDrive/colab_notebooks/pokemon_images/vanillish.png', '/content/drive/MyDrive/colab_notebooks/pokemon_images/lairon.png', '/content/drive/MyDrive/colab_notebooks/pokemon_images/pachirisu.png', '/content/drive/MyDrive/colab_notebooks/pokemon_images/vanillite.png', '/content/drive/MyDrive/colab_notebooks/pokemon_images/parasect.png', '/content/drive/MyDrive/colab_notebooks/pokemon_images/amaura.png', '/content/drive/MyDrive/colab_notebooks/pokemon_images/masquerain.png', '/content/drive/MyDrive/colab_notebooks/pokemon_images/croconaw.png', '/content/drive/MyDrive/colab_notebooks/pokemon_images/hakamo-o.png', '/content/drive/MyDrive/colab_notebooks/pokemon_images/glaceon.png', '/content/drive/MyDrive/colab_notebooks/pokemon_images/tentacool.png', '/content/drive/MyDrive/colab_notebooks/pokemon_images/magneton.png', '/content/drive/MyDrive/colab_notebooks/pokemon_images/machoke.png', '/content/drive/MyDrive/colab_notebooks/pokemon_images/seel.png', '/content/drive/MyDrive/colab_notebooks/pokemon_images/diancie.png', '/content/drive/MyDrive/colab_notebooks/pokemon_images/axew.png', '/content/drive/MyDrive/colab_notebooks/pokemon_images/cubchoo.png', '/content/drive/MyDrive/colab_notebooks/pokemon_images/scizor.png', '/content/drive/MyDrive/colab_notebooks/pokemon_images/musharna.png', '/content/drive/MyDrive/colab_notebooks/pokemon_images/ursaring.png', '/content/drive/MyDrive/colab_notebooks/pokemon_images/wynaut.png', '/content/drive/MyDrive/colab_notebooks/pokemon_images/rhyperior.png', '/content/drive/MyDrive/colab_notebooks/pokemon_images/krabby.png', '/content/drive/MyDrive/colab_notebooks/pokemon_images/shaymin-land.png', '/content/drive/MyDrive/colab_notebooks/pokemon_images/entei.png', '/content/drive/MyDrive/colab_notebooks/pokemon_images/herdier.png', '/content/drive/MyDrive/colab_notebooks/pokemon_images/pupitar.png', '/content/drive/MyDrive/colab_notebooks/pokemon_images/tranquill.png', '/content/drive/MyDrive/colab_notebooks/pokemon_images/noivern.png', '/content/drive/MyDrive/colab_notebooks/pokemon_images/garchomp.png', '/content/drive/MyDrive/colab_notebooks/pokemon_images/cherubi.png', '/content/drive/MyDrive/colab_notebooks/pokemon_images/phantump.png', '/content/drive/MyDrive/colab_notebooks/pokemon_images/greninja.png', '/content/drive/MyDrive/colab_notebooks/pokemon_images/manectric.png', '/content/drive/MyDrive/colab_notebooks/pokemon_images/salamence.png', '/content/drive/MyDrive/colab_notebooks/pokemon_images/deoxys-normal.png', '/content/drive/MyDrive/colab_notebooks/pokemon_images/gallade.png', '/content/drive/MyDrive/colab_notebooks/pokemon_images/primarina.png', '/content/drive/MyDrive/colab_notebooks/pokemon_images/accelgor.png', '/content/drive/MyDrive/colab_notebooks/pokemon_images/yanma.png', '/content/drive/MyDrive/colab_notebooks/pokemon_images/wobbuffet.png', '/content/drive/MyDrive/colab_notebooks/pokemon_images/pidgeotto.png', '/content/drive/MyDrive/colab_notebooks/pokemon_images/milotic.png', '/content/drive/MyDrive/colab_notebooks/pokemon_images/marshtomp.png', '/content/drive/MyDrive/colab_notebooks/pokemon_images/comfey.png', '/content/drive/MyDrive/colab_notebooks/pokemon_images/ralts.png', '/content/drive/MyDrive/colab_notebooks/pokemon_images/bouffalant.png', '/content/drive/MyDrive/colab_notebooks/pokemon_images/cosmoem.png', '/content/drive/MyDrive/colab_notebooks/pokemon_images/togetic.png', '/content/drive/MyDrive/colab_notebooks/pokemon_images/espurr.png', '/content/drive/MyDrive/colab_notebooks/pokemon_images/gurdurr.png', '/content/drive/MyDrive/colab_notebooks/pokemon_images/steenee.png', '/content/drive/MyDrive/colab_notebooks/pokemon_images/simisage.png', '/content/drive/MyDrive/colab_notebooks/pokemon_images/cinccino.png', '/content/drive/MyDrive/colab_notebooks/pokemon_images/unown.png', '/content/drive/MyDrive/colab_notebooks/pokemon_images/petilil.png', '/content/drive/MyDrive/colab_notebooks/pokemon_images/tynamo.png', '/content/drive/MyDrive/colab_notebooks/pokemon_images/seaking.png', '/content/drive/MyDrive/colab_notebooks/pokemon_images/bibarel.png', '/content/drive/MyDrive/colab_notebooks/pokemon_images/tangrowth.png', '/content/drive/MyDrive/colab_notebooks/pokemon_images/trapinch.png', '/content/drive/MyDrive/colab_notebooks/pokemon_images/skarmory.png', '/content/drive/MyDrive/colab_notebooks/pokemon_images/nidoran-f.png', '/content/drive/MyDrive/colab_notebooks/pokemon_images/honchkrow.png', '/content/drive/MyDrive/colab_notebooks/pokemon_images/cleffa.png', '/content/drive/MyDrive/colab_notebooks/pokemon_images/braixen.png', '/content/drive/MyDrive/colab_notebooks/pokemon_images/cresselia.png', '/content/drive/MyDrive/colab_notebooks/pokemon_images/eevee.png', '/content/drive/MyDrive/colab_notebooks/pokemon_images/sceptile.png', '/content/drive/MyDrive/colab_notebooks/pokemon_images/gastly.png', '/content/drive/MyDrive/colab_notebooks/pokemon_images/mightyena.png', '/content/drive/MyDrive/colab_notebooks/pokemon_images/swalot.png', '/content/drive/MyDrive/colab_notebooks/pokemon_images/stunfisk.png', '/content/drive/MyDrive/colab_notebooks/pokemon_images/mime-jr.png', '/content/drive/MyDrive/colab_notebooks/pokemon_images/trubbish.png', '/content/drive/MyDrive/colab_notebooks/pokemon_images/porygon-z.png', '/content/drive/MyDrive/colab_notebooks/pokemon_images/seadra.png', '/content/drive/MyDrive/colab_notebooks/pokemon_images/mareep.png', '/content/drive/MyDrive/colab_notebooks/pokemon_images/braviary.png', '/content/drive/MyDrive/colab_notebooks/pokemon_images/gardevoir.png', '/content/drive/MyDrive/colab_notebooks/pokemon_images/pichu.png', '/content/drive/MyDrive/colab_notebooks/pokemon_images/shiftry.png', '/content/drive/MyDrive/colab_notebooks/pokemon_images/hydreigon.png', '/content/drive/MyDrive/colab_notebooks/pokemon_images/drilbur.png', '/content/drive/MyDrive/colab_notebooks/pokemon_images/hawlucha.png', '/content/drive/MyDrive/colab_notebooks/pokemon_images/wigglytuff.png', '/content/drive/MyDrive/colab_notebooks/pokemon_images/vigoroth.png', '/content/drive/MyDrive/colab_notebooks/pokemon_images/reuniclus.png', '/content/drive/MyDrive/colab_notebooks/pokemon_images/corsola.png', '/content/drive/MyDrive/colab_notebooks/pokemon_images/beheeyem.png', '/content/drive/MyDrive/colab_notebooks/pokemon_images/abomasnow.png', '/content/drive/MyDrive/colab_notebooks/pokemon_images/seedot.png', '/content/drive/MyDrive/colab_notebooks/pokemon_images/poipole.png', '/content/drive/MyDrive/colab_notebooks/pokemon_images/toxicroak.png', '/content/drive/MyDrive/colab_notebooks/pokemon_images/gabite.png', '/content/drive/MyDrive/colab_notebooks/pokemon_images/chimecho.png', '/content/drive/MyDrive/colab_notebooks/pokemon_images/blissey.png', '/content/drive/MyDrive/colab_notebooks/pokemon_images/tyrantrum.png', '/content/drive/MyDrive/colab_notebooks/pokemon_images/darmanitan-standard.png', '/content/drive/MyDrive/colab_notebooks/pokemon_images/magnemite.png', '/content/drive/MyDrive/colab_notebooks/pokemon_images/palkia.png', '/content/drive/MyDrive/colab_notebooks/pokemon_images/roserade.png', '/content/drive/MyDrive/colab_notebooks/pokemon_images/ninetales.png', '/content/drive/MyDrive/colab_notebooks/pokemon_images/beartic.png', '/content/drive/MyDrive/colab_notebooks/pokemon_images/shelgon.png', '/content/drive/MyDrive/colab_notebooks/pokemon_images/eelektross.png', '/content/drive/MyDrive/colab_notebooks/pokemon_images/latios.png', '/content/drive/MyDrive/colab_notebooks/pokemon_images/wartortle.png', '/content/drive/MyDrive/colab_notebooks/pokemon_images/klang.png', '/content/drive/MyDrive/colab_notebooks/pokemon_images/karrablast.png', '/content/drive/MyDrive/colab_notebooks/pokemon_images/pidgeot.png', '/content/drive/MyDrive/colab_notebooks/pokemon_images/lugia.png', '/content/drive/MyDrive/colab_notebooks/pokemon_images/electivire.png', '/content/drive/MyDrive/colab_notebooks/pokemon_images/golurk.png', '/content/drive/MyDrive/colab_notebooks/pokemon_images/vulpix.png', '/content/drive/MyDrive/colab_notebooks/pokemon_images/metapod.png', '/content/drive/MyDrive/colab_notebooks/pokemon_images/slowking.png', '/content/drive/MyDrive/colab_notebooks/pokemon_images/kingdra.png', '/content/drive/MyDrive/colab_notebooks/pokemon_images/eelektrik.png', '/content/drive/MyDrive/colab_notebooks/pokemon_images/zeraora.png', '/content/drive/MyDrive/colab_notebooks/pokemon_images/butterfree.png', '/content/drive/MyDrive/colab_notebooks/pokemon_images/beautifly.png', '/content/drive/MyDrive/colab_notebooks/pokemon_images/weezing.png', '/content/drive/MyDrive/colab_notebooks/pokemon_images/walrein.png', '/content/drive/MyDrive/colab_notebooks/pokemon_images/aegislash-blade.png', '/content/drive/MyDrive/colab_notebooks/pokemon_images/hoopa-confined.png', '/content/drive/MyDrive/colab_notebooks/pokemon_images/simipour.png', '/content/drive/MyDrive/colab_notebooks/pokemon_images/poliwag.png', '/content/drive/MyDrive/colab_notebooks/pokemon_images/wormadam-plant.png', '/content/drive/MyDrive/colab_notebooks/pokemon_images/jirachi.png', '/content/drive/MyDrive/colab_notebooks/pokemon_images/tornadus-incarnate.png', '/content/drive/MyDrive/colab_notebooks/pokemon_images/teddiursa.png', '/content/drive/MyDrive/colab_notebooks/pokemon_images/gyarados.png', '/content/drive/MyDrive/colab_notebooks/pokemon_images/bewear.png', '/content/drive/MyDrive/colab_notebooks/pokemon_images/relicanth.png', '/content/drive/MyDrive/colab_notebooks/pokemon_images/mareanie.png', '/content/drive/MyDrive/colab_notebooks/pokemon_images/crabrawler.png', '/content/drive/MyDrive/colab_notebooks/pokemon_images/sudowoodo.png', '/content/drive/MyDrive/colab_notebooks/pokemon_images/tirtouga.png', '/content/drive/MyDrive/colab_notebooks/pokemon_images/cottonee.png', '/content/drive/MyDrive/colab_notebooks/pokemon_images/rampardos.png', '/content/drive/MyDrive/colab_notebooks/pokemon_images/jumpluff.png', '/content/drive/MyDrive/colab_notebooks/pokemon_images/seviper.png', '/content/drive/MyDrive/colab_notebooks/pokemon_images/aerodactyl.png', '/content/drive/MyDrive/colab_notebooks/pokemon_images/lotad.png', '/content/drive/MyDrive/colab_notebooks/pokemon_images/hariyama.png', '/content/drive/MyDrive/colab_notebooks/pokemon_images/natu.png', '/content/drive/MyDrive/colab_notebooks/pokemon_images/dustox.png', '/content/drive/MyDrive/colab_notebooks/pokemon_images/slowpoke.png', '/content/drive/MyDrive/colab_notebooks/pokemon_images/golett.png', '/content/drive/MyDrive/colab_notebooks/pokemon_images/swirlix.png', '/content/drive/MyDrive/colab_notebooks/pokemon_images/magearna.png', '/content/drive/MyDrive/colab_notebooks/pokemon_images/nincada.png', '/content/drive/MyDrive/colab_notebooks/pokemon_images/golisopod.png', '/content/drive/MyDrive/colab_notebooks/pokemon_images/furfrou.png', '/content/drive/MyDrive/colab_notebooks/pokemon_images/araquanid.png', '/content/drive/MyDrive/colab_notebooks/pokemon_images/ledian.png', '/content/drive/MyDrive/colab_notebooks/pokemon_images/emboar.png', '/content/drive/MyDrive/colab_notebooks/pokemon_images/staravia.png', '/content/drive/MyDrive/colab_notebooks/pokemon_images/froslass.png', '/content/drive/MyDrive/colab_notebooks/pokemon_images/marshadow.png', '/content/drive/MyDrive/colab_notebooks/pokemon_images/fomantis.png', '/content/drive/MyDrive/colab_notebooks/pokemon_images/magmortar.png', '/content/drive/MyDrive/colab_notebooks/pokemon_images/ponyta.png', '/content/drive/MyDrive/colab_notebooks/pokemon_images/basculin-red-striped.png', '/content/drive/MyDrive/colab_notebooks/pokemon_images/diglett.png', '/content/drive/MyDrive/colab_notebooks/pokemon_images/snivy.png', '/content/drive/MyDrive/colab_notebooks/pokemon_images/magmar.png', '/content/drive/MyDrive/colab_notebooks/pokemon_images/lunala.png', '/content/drive/MyDrive/colab_notebooks/pokemon_images/roggenrola.png', '/content/drive/MyDrive/colab_notebooks/pokemon_images/torchic.png', '/content/drive/MyDrive/colab_notebooks/pokemon_images/bruxish.png', '/content/drive/MyDrive/colab_notebooks/pokemon_images/numel.png', '/content/drive/MyDrive/colab_notebooks/pokemon_images/komala.png', '/content/drive/MyDrive/colab_notebooks/pokemon_images/ekans.png', '/content/drive/MyDrive/colab_notebooks/pokemon_images/lickitung.png', '/content/drive/MyDrive/colab_notebooks/pokemon_images/surskit.png', '/content/drive/MyDrive/colab_notebooks/pokemon_images/popplio.png', '/content/drive/MyDrive/colab_notebooks/pokemon_images/wailmer.png', '/content/drive/MyDrive/colab_notebooks/pokemon_images/togepi.png', '/content/drive/MyDrive/colab_notebooks/pokemon_images/skitty.png', '/content/drive/MyDrive/colab_notebooks/pokemon_images/gengar.png', '/content/drive/MyDrive/colab_notebooks/pokemon_images/ferrothorn.png', '/content/drive/MyDrive/colab_notebooks/pokemon_images/gastrodon.png', '/content/drive/MyDrive/colab_notebooks/pokemon_images/probopass.png', '/content/drive/MyDrive/colab_notebooks/pokemon_images/spoink.png', '/content/drive/MyDrive/colab_notebooks/pokemon_images/poochyena.png', '/content/drive/MyDrive/colab_notebooks/pokemon_images/reshiram.png', '/content/drive/MyDrive/colab_notebooks/pokemon_images/drifloon.png', '/content/drive/MyDrive/colab_notebooks/pokemon_images/luxray.png', '/content/drive/MyDrive/colab_notebooks/pokemon_images/cyndaquil.png', '/content/drive/MyDrive/colab_notebooks/pokemon_images/finneon.png', '/content/drive/MyDrive/colab_notebooks/pokemon_images/mawile.png', '/content/drive/MyDrive/colab_notebooks/pokemon_images/quilava.png', '/content/drive/MyDrive/colab_notebooks/pokemon_images/whiscash.png', '/content/drive/MyDrive/colab_notebooks/pokemon_images/fearow.png', '/content/drive/MyDrive/colab_notebooks/pokemon_images/bonsly.png', '/content/drive/MyDrive/colab_notebooks/pokemon_images/totodile.png', '/content/drive/MyDrive/colab_notebooks/pokemon_images/kartana.png', '/content/drive/MyDrive/colab_notebooks/pokemon_images/mudkip.png', '/content/drive/MyDrive/colab_notebooks/pokemon_images/sandslash.png', '/content/drive/MyDrive/colab_notebooks/pokemon_images/turtwig.png', '/content/drive/MyDrive/colab_notebooks/pokemon_images/dusclops.png', '/content/drive/MyDrive/colab_notebooks/pokemon_images/clauncher.png', '/content/drive/MyDrive/colab_notebooks/pokemon_images/gligar.png', '/content/drive/MyDrive/colab_notebooks/pokemon_images/combusken.png', '/content/drive/MyDrive/colab_notebooks/pokemon_images/gloom.png', '/content/drive/MyDrive/colab_notebooks/pokemon_images/azurill.png', '/content/drive/MyDrive/colab_notebooks/pokemon_images/gigalith.png', '/content/drive/MyDrive/colab_notebooks/pokemon_images/deino.png', '/content/drive/MyDrive/colab_notebooks/pokemon_images/foongus.png', '/content/drive/MyDrive/colab_notebooks/pokemon_images/minccino.png', '/content/drive/MyDrive/colab_notebooks/pokemon_images/litten.png', '/content/drive/MyDrive/colab_notebooks/pokemon_images/turtonator.png', '/content/drive/MyDrive/colab_notebooks/pokemon_images/chansey.png', '/content/drive/MyDrive/colab_notebooks/pokemon_images/shelmet.png', '/content/drive/MyDrive/colab_notebooks/pokemon_images/budew.png', '/content/drive/MyDrive/colab_notebooks/pokemon_images/uxie.png', '/content/drive/MyDrive/colab_notebooks/pokemon_images/lunatone.png', '/content/drive/MyDrive/colab_notebooks/pokemon_images/chingling.png', '/content/drive/MyDrive/colab_notebooks/pokemon_images/shinx.png', '/content/drive/MyDrive/colab_notebooks/pokemon_images/klefki.png', '/content/drive/MyDrive/colab_notebooks/pokemon_images/munchlax.png', '/content/drive/MyDrive/colab_notebooks/pokemon_images/corphish.png', '/content/drive/MyDrive/colab_notebooks/pokemon_images/metagross.png', '/content/drive/MyDrive/colab_notebooks/pokemon_images/carvanha.png', '/content/drive/MyDrive/colab_notebooks/pokemon_images/patrat.png', '/content/drive/MyDrive/colab_notebooks/pokemon_images/kadabra.png', '/content/drive/MyDrive/colab_notebooks/pokemon_images/magnezone.png', '/content/drive/MyDrive/colab_notebooks/pokemon_images/nidorina.png', '/content/drive/MyDrive/colab_notebooks/pokemon_images/gothita.png', '/content/drive/MyDrive/colab_notebooks/pokemon_images/charizard.png', '/content/drive/MyDrive/colab_notebooks/pokemon_images/morelull.png', '/content/drive/MyDrive/colab_notebooks/pokemon_images/salandit.png', '/content/drive/MyDrive/colab_notebooks/pokemon_images/klinklang.png', '/content/drive/MyDrive/colab_notebooks/pokemon_images/suicune.png', '/content/drive/MyDrive/colab_notebooks/pokemon_images/stunky.png', '/content/drive/MyDrive/colab_notebooks/pokemon_images/goomy.png', '/content/drive/MyDrive/colab_notebooks/pokemon_images/quagsire.png', '/content/drive/MyDrive/colab_notebooks/pokemon_images/tapu-koko.png', '/content/drive/MyDrive/colab_notebooks/pokemon_images/frogadier.png', '/content/drive/MyDrive/colab_notebooks/pokemon_images/venonat.png', '/content/drive/MyDrive/colab_notebooks/pokemon_images/dragonite.png', '/content/drive/MyDrive/colab_notebooks/pokemon_images/flygon.png', '/content/drive/MyDrive/colab_notebooks/pokemon_images/amoonguss.png', '/content/drive/MyDrive/colab_notebooks/pokemon_images/abra.png', '/content/drive/MyDrive/colab_notebooks/pokemon_images/snorlax.png', '/content/drive/MyDrive/colab_notebooks/pokemon_images/gothitelle.png', '/content/drive/MyDrive/colab_notebooks/pokemon_images/goldeen.png', '/content/drive/MyDrive/colab_notebooks/pokemon_images/hitmontop.png', '/content/drive/MyDrive/colab_notebooks/pokemon_images/pelipper.png', '/content/drive/MyDrive/colab_notebooks/pokemon_images/claydol.png', '/content/drive/MyDrive/colab_notebooks/pokemon_images/darumaka.png', '/content/drive/MyDrive/colab_notebooks/pokemon_images/sawk.png', '/content/drive/MyDrive/colab_notebooks/pokemon_images/skrelp.png', '/content/drive/MyDrive/colab_notebooks/pokemon_images/kommo-o.png', '/content/drive/MyDrive/colab_notebooks/pokemon_images/donphan.png', '/content/drive/MyDrive/colab_notebooks/pokemon_images/yanmega.png', '/content/drive/MyDrive/colab_notebooks/pokemon_images/xerneas.png', '/content/drive/MyDrive/colab_notebooks/pokemon_images/barbaracle.png', '/content/drive/MyDrive/colab_notebooks/pokemon_images/tapu-lele.png', '/content/drive/MyDrive/colab_notebooks/pokemon_images/murkrow.png', '/content/drive/MyDrive/colab_notebooks/pokemon_images/noctowl.png', '/content/drive/MyDrive/colab_notebooks/pokemon_images/pansage.png', '/content/drive/MyDrive/colab_notebooks/pokemon_images/drowzee.png', '/content/drive/MyDrive/colab_notebooks/pokemon_images/horsea.png', '/content/drive/MyDrive/colab_notebooks/pokemon_images/cobalion.png', '/content/drive/MyDrive/colab_notebooks/pokemon_images/serperior.png', '/content/drive/MyDrive/colab_notebooks/pokemon_images/linoone.png', '/content/drive/MyDrive/colab_notebooks/pokemon_images/omastar.png', '/content/drive/MyDrive/colab_notebooks/pokemon_images/blaziken.png', '/content/drive/MyDrive/colab_notebooks/pokemon_images/ribombee.png', '/content/drive/MyDrive/colab_notebooks/pokemon_images/porygon2.png', '/content/drive/MyDrive/colab_notebooks/pokemon_images/sableye.png', '/content/drive/MyDrive/colab_notebooks/pokemon_images/scraggy.png', '/content/drive/MyDrive/colab_notebooks/pokemon_images/carracosta.png', '/content/drive/MyDrive/colab_notebooks/pokemon_images/makuhita.png', '/content/drive/MyDrive/colab_notebooks/pokemon_images/shuckle.png', '/content/drive/MyDrive/colab_notebooks/pokemon_images/aipom.png', '/content/drive/MyDrive/colab_notebooks/pokemon_images/tentacruel.png', '/content/drive/MyDrive/colab_notebooks/pokemon_images/golbat.png', '/content/drive/MyDrive/colab_notebooks/pokemon_images/jangmo-o.png', '/content/drive/MyDrive/colab_notebooks/pokemon_images/scyther.png', '/content/drive/MyDrive/colab_notebooks/pokemon_images/kricketune.png', '/content/drive/MyDrive/colab_notebooks/pokemon_images/bastiodon.png', '/content/drive/MyDrive/colab_notebooks/pokemon_images/minior-meteor.png', '/content/drive/MyDrive/colab_notebooks/pokemon_images/palossand.png', '/content/drive/MyDrive/colab_notebooks/pokemon_images/melmetal.png', '/content/drive/MyDrive/colab_notebooks/pokemon_images/koffing.png', '/content/drive/MyDrive/colab_notebooks/pokemon_images/slakoth.png', '/content/drive/MyDrive/colab_notebooks/pokemon_images/mew.png', '/content/drive/MyDrive/colab_notebooks/pokemon_images/mamoswine.png', '/content/drive/MyDrive/colab_notebooks/pokemon_images/houndoom.png', '/content/drive/MyDrive/colab_notebooks/pokemon_images/cryogonal.png', '/content/drive/MyDrive/colab_notebooks/pokemon_images/ledyba.png', '/content/drive/MyDrive/colab_notebooks/pokemon_images/togedemaru.png', '/content/drive/MyDrive/colab_notebooks/pokemon_images/oshawott.png', '/content/drive/MyDrive/colab_notebooks/pokemon_images/crobat.png', '/content/drive/MyDrive/colab_notebooks/pokemon_images/dhelmise.png', '/content/drive/MyDrive/colab_notebooks/pokemon_images/aromatisse.png', '/content/drive/MyDrive/colab_notebooks/pokemon_images/kakuna.png', '/content/drive/MyDrive/colab_notebooks/pokemon_images/roselia.png', '/content/drive/MyDrive/colab_notebooks/pokemon_images/starmie.png', '/content/drive/MyDrive/colab_notebooks/pokemon_images/fraxure.png', '/content/drive/MyDrive/colab_notebooks/pokemon_images/regirock.png', '/content/drive/MyDrive/colab_notebooks/pokemon_images/meloetta-aria.png', '/content/drive/MyDrive/colab_notebooks/pokemon_images/crawdaunt.png', '/content/drive/MyDrive/colab_notebooks/pokemon_images/mesprit.png', '/content/drive/MyDrive/colab_notebooks/pokemon_images/vibrava.png', '/content/drive/MyDrive/colab_notebooks/pokemon_images/incineroar.png', '/content/drive/MyDrive/colab_notebooks/pokemon_images/pikipek.png', '/content/drive/MyDrive/colab_notebooks/pokemon_images/fletchinder.png', '/content/drive/MyDrive/colab_notebooks/pokemon_images/vespiquen.png', '/content/drive/MyDrive/colab_notebooks/pokemon_images/haxorus.png', '/content/drive/MyDrive/colab_notebooks/pokemon_images/treecko.png', '/content/drive/MyDrive/colab_notebooks/pokemon_images/mankey.png', '/content/drive/MyDrive/colab_notebooks/pokemon_images/wishiwashi-solo.png', '/content/drive/MyDrive/colab_notebooks/pokemon_images/paras.png', '/content/drive/MyDrive/colab_notebooks/pokemon_images/spearow.png', '/content/drive/MyDrive/colab_notebooks/pokemon_images/carbink.png', '/content/drive/MyDrive/colab_notebooks/pokemon_images/mewtwo.png', '/content/drive/MyDrive/colab_notebooks/pokemon_images/mothim.png', '/content/drive/MyDrive/colab_notebooks/pokemon_images/mienshao.png', '/content/drive/MyDrive/colab_notebooks/pokemon_images/crustle.png', '/content/drive/MyDrive/colab_notebooks/pokemon_images/ducklett.png', '/content/drive/MyDrive/colab_notebooks/pokemon_images/golem.png', '/content/drive/MyDrive/colab_notebooks/pokemon_images/gourgeist-average.png', '/content/drive/MyDrive/colab_notebooks/pokemon_images/swanna.png', '/content/drive/MyDrive/colab_notebooks/pokemon_images/aggron.png', '/content/drive/MyDrive/colab_notebooks/pokemon_images/naganadel.png', '/content/drive/MyDrive/colab_notebooks/pokemon_images/zebstrika.png', '/content/drive/MyDrive/colab_notebooks/pokemon_images/sharpedo.png', '/content/drive/MyDrive/colab_notebooks/pokemon_images/pineco.png', '/content/drive/MyDrive/colab_notebooks/pokemon_images/weepinbell.png', '/content/drive/MyDrive/colab_notebooks/pokemon_images/venipede.png', '/content/drive/MyDrive/colab_notebooks/pokemon_images/manaphy.png', '/content/drive/MyDrive/colab_notebooks/pokemon_images/raikou.png', '/content/drive/MyDrive/colab_notebooks/pokemon_images/avalugg.png', '/content/drive/MyDrive/colab_notebooks/pokemon_images/stantler.png', '/content/drive/MyDrive/colab_notebooks/pokemon_images/stoutland.png', '/content/drive/MyDrive/colab_notebooks/pokemon_images/sneasel.png', '/content/drive/MyDrive/colab_notebooks/pokemon_images/lurantis.png', '/content/drive/MyDrive/colab_notebooks/pokemon_images/slugma.png', '/content/drive/MyDrive/colab_notebooks/pokemon_images/vivillon.png', '/content/drive/MyDrive/colab_notebooks/pokemon_images/shellos.png', '/content/drive/MyDrive/colab_notebooks/pokemon_images/smoochum.png', '/content/drive/MyDrive/colab_notebooks/pokemon_images/kirlia.png', '/content/drive/MyDrive/colab_notebooks/pokemon_images/pinsir.png', '/content/drive/MyDrive/colab_notebooks/pokemon_images/blacephalon.png', '/content/drive/MyDrive/colab_notebooks/pokemon_images/vikavolt.png', '/content/drive/MyDrive/colab_notebooks/pokemon_images/exeggcute.png', '/content/drive/MyDrive/colab_notebooks/pokemon_images/solgaleo.png', '/content/drive/MyDrive/colab_notebooks/pokemon_images/porygon.png', '/content/drive/MyDrive/colab_notebooks/pokemon_images/igglybuff.png', '/content/drive/MyDrive/colab_notebooks/pokemon_images/swoobat.png', '/content/drive/MyDrive/colab_notebooks/pokemon_images/nihilego.png', '/content/drive/MyDrive/colab_notebooks/pokemon_images/pangoro.png', '/content/drive/MyDrive/colab_notebooks/pokemon_images/blastoise.png', '/content/drive/MyDrive/colab_notebooks/pokemon_images/toxapex.png', '/content/drive/MyDrive/colab_notebooks/pokemon_images/grovyle.png', '/content/drive/MyDrive/colab_notebooks/pokemon_images/sandile.png', '/content/drive/MyDrive/colab_notebooks/pokemon_images/arbok.png', '/content/drive/MyDrive/colab_notebooks/pokemon_images/grotle.png', '/content/drive/MyDrive/colab_notebooks/pokemon_images/girafarig.png', '/content/drive/MyDrive/colab_notebooks/pokemon_images/omanyte.png', '/content/drive/MyDrive/colab_notebooks/pokemon_images/aurorus.png', '/content/drive/MyDrive/colab_notebooks/pokemon_images/banette.png', '/content/drive/MyDrive/colab_notebooks/pokemon_images/snubbull.png', '/content/drive/MyDrive/colab_notebooks/pokemon_images/kangaskhan.png', '/content/drive/MyDrive/colab_notebooks/pokemon_images/muk.png', '/content/drive/MyDrive/colab_notebooks/pokemon_images/type-null.png', '/content/drive/MyDrive/colab_notebooks/pokemon_images/typhlosion.png', '/content/drive/MyDrive/colab_notebooks/pokemon_images/kingler.png', '/content/drive/MyDrive/colab_notebooks/pokemon_images/trumbeak.png', '/content/drive/MyDrive/colab_notebooks/pokemon_images/meowth.png', '/content/drive/MyDrive/colab_notebooks/pokemon_images/goodra.png', '/content/drive/MyDrive/colab_notebooks/pokemon_images/cherrim.png', '/content/drive/MyDrive/colab_notebooks/pokemon_images/spewpa.png', '/content/drive/MyDrive/colab_notebooks/pokemon_images/camerupt.png', '/content/drive/MyDrive/colab_notebooks/pokemon_images/feraligatr.png', '/content/drive/MyDrive/colab_notebooks/pokemon_images/metang.png', '/content/drive/MyDrive/colab_notebooks/pokemon_images/hippopotas.png', '/content/drive/MyDrive/colab_notebooks/pokemon_images/politoed.png', '/content/drive/MyDrive/colab_notebooks/pokemon_images/mudsdale.png', '/content/drive/MyDrive/colab_notebooks/pokemon_images/slurpuff.png', '/content/drive/MyDrive/colab_notebooks/pokemon_images/raichu.png', '/content/drive/MyDrive/colab_notebooks/pokemon_images/silcoon.png', '/content/drive/MyDrive/colab_notebooks/pokemon_images/cloyster.png', '/content/drive/MyDrive/colab_notebooks/pokemon_images/mandibuzz.png', '/content/drive/MyDrive/colab_notebooks/pokemon_images/nidorino.png', '/content/drive/MyDrive/colab_notebooks/pokemon_images/snover.png', '/content/drive/MyDrive/colab_notebooks/pokemon_images/sawsbuck.png', '/content/drive/MyDrive/colab_notebooks/pokemon_images/woobat.png', '/content/drive/MyDrive/colab_notebooks/pokemon_images/whismur.png', '/content/drive/MyDrive/colab_notebooks/pokemon_images/shedinja.png', '/content/drive/MyDrive/colab_notebooks/pokemon_images/snorunt.png', '/content/drive/MyDrive/colab_notebooks/pokemon_images/caterpie.png', '/content/drive/MyDrive/colab_notebooks/pokemon_images/sewaddle.png', '/content/drive/MyDrive/colab_notebooks/pokemon_images/deerling.png', '/content/drive/MyDrive/colab_notebooks/pokemon_images/dugtrio.png', '/content/drive/MyDrive/colab_notebooks/pokemon_images/nidoqueen.png', '/content/drive/MyDrive/colab_notebooks/pokemon_images/lycanroc-midday.png', '/content/drive/MyDrive/colab_notebooks/pokemon_images/torkoal.png', '/content/drive/MyDrive/colab_notebooks/pokemon_images/pidgey.png', '/content/drive/MyDrive/colab_notebooks/pokemon_images/doublade.png', '/content/drive/MyDrive/colab_notebooks/pokemon_images/starly.png', '/content/drive/MyDrive/colab_notebooks/pokemon_images/audino.png', '/content/drive/MyDrive/colab_notebooks/pokemon_images/palpitoad.png', '/content/drive/MyDrive/colab_notebooks/pokemon_images/simisear.png', '/content/drive/MyDrive/colab_notebooks/pokemon_images/poliwhirl.png', '/content/drive/MyDrive/colab_notebooks/pokemon_images/arceus.png', '/content/drive/MyDrive/colab_notebooks/pokemon_images/kyurem.png', '/content/drive/MyDrive/colab_notebooks/pokemon_images/alakazam.png', '/content/drive/MyDrive/colab_notebooks/pokemon_images/drapion.png', '/content/drive/MyDrive/colab_notebooks/pokemon_images/heatmor.png', '/content/drive/MyDrive/colab_notebooks/pokemon_images/heliolisk.png', '/content/drive/MyDrive/colab_notebooks/pokemon_images/huntail.png', '/content/drive/MyDrive/colab_notebooks/pokemon_images/rotom.png', '/content/drive/MyDrive/colab_notebooks/pokemon_images/raticate.png', '/content/drive/MyDrive/colab_notebooks/pokemon_images/delcatty.png', '/content/drive/MyDrive/colab_notebooks/pokemon_images/steelix.png', '/content/drive/MyDrive/colab_notebooks/pokemon_images/scolipede.png', '/content/drive/MyDrive/colab_notebooks/pokemon_images/nidoking.png', '/content/drive/MyDrive/colab_notebooks/pokemon_images/nidoran-m.png', '/content/drive/MyDrive/colab_notebooks/pokemon_images/celebi.png', '/content/drive/MyDrive/colab_notebooks/pokemon_images/ferroseed.png', '/content/drive/MyDrive/colab_notebooks/pokemon_images/blitzle.png', '/content/drive/MyDrive/colab_notebooks/pokemon_images/duskull.png', '/content/drive/MyDrive/colab_notebooks/pokemon_images/zoroark.png', '/content/drive/MyDrive/colab_notebooks/pokemon_images/lucario.png', '/content/drive/MyDrive/colab_notebooks/pokemon_images/floette.png', '/content/drive/MyDrive/colab_notebooks/pokemon_images/tyrunt.png', '/content/drive/MyDrive/colab_notebooks/pokemon_images/octillery.png', '/content/drive/MyDrive/colab_notebooks/pokemon_images/hoppip.png', '/content/drive/MyDrive/colab_notebooks/pokemon_images/mismagius.png', '/content/drive/MyDrive/colab_notebooks/pokemon_images/bagon.png', '/content/drive/MyDrive/colab_notebooks/pokemon_images/medicham.png', '/content/drive/MyDrive/colab_notebooks/pokemon_images/empoleon.png', '/content/drive/MyDrive/colab_notebooks/pokemon_images/togekiss.png', '/content/drive/MyDrive/colab_notebooks/pokemon_images/dusknoir.png', '/content/drive/MyDrive/colab_notebooks/pokemon_images/jellicent.png', '/content/drive/MyDrive/colab_notebooks/pokemon_images/ditto.png', '/content/drive/MyDrive/colab_notebooks/pokemon_images/rufflet.png', '/content/drive/MyDrive/colab_notebooks/pokemon_images/barboach.png', '/content/drive/MyDrive/colab_notebooks/pokemon_images/necrozma.png', '/content/drive/MyDrive/colab_notebooks/pokemon_images/carnivine.png', '/content/drive/MyDrive/colab_notebooks/pokemon_images/furret.png', '/content/drive/MyDrive/colab_notebooks/pokemon_images/registeel.png', '/content/drive/MyDrive/colab_notebooks/pokemon_images/magcargo.png', '/content/drive/MyDrive/colab_notebooks/pokemon_images/zekrom.png', '/content/drive/MyDrive/colab_notebooks/pokemon_images/cradily.png', '/content/drive/MyDrive/colab_notebooks/pokemon_images/buzzwole.png', '/content/drive/MyDrive/colab_notebooks/pokemon_images/buneary.png', '/content/drive/MyDrive/colab_notebooks/pokemon_images/krokorok.png', '/content/drive/MyDrive/colab_notebooks/pokemon_images/kricketot.png', '/content/drive/MyDrive/colab_notebooks/pokemon_images/servine.png', '/content/drive/MyDrive/colab_notebooks/pokemon_images/sandshrew.png', '/content/drive/MyDrive/colab_notebooks/pokemon_images/maractus.png', '/content/drive/MyDrive/colab_notebooks/pokemon_images/grimer.png', '/content/drive/MyDrive/colab_notebooks/pokemon_images/chatot.png', '/content/drive/MyDrive/colab_notebooks/pokemon_images/weavile.png', '/content/drive/MyDrive/colab_notebooks/pokemon_images/klink.png', '/content/drive/MyDrive/colab_notebooks/pokemon_images/hippowdon.png', '/content/drive/MyDrive/colab_notebooks/pokemon_images/doduo.png', '/content/drive/MyDrive/colab_notebooks/pokemon_images/dragalge.png', '/content/drive/MyDrive/colab_notebooks/pokemon_images/whirlipede.png', '/content/drive/MyDrive/colab_notebooks/pokemon_images/bisharp.png', '/content/drive/MyDrive/colab_notebooks/pokemon_images/ambipom.png', '/content/drive/MyDrive/colab_notebooks/pokemon_images/skiddo.png', '/content/drive/MyDrive/colab_notebooks/pokemon_images/decidueye.png', '/content/drive/MyDrive/colab_notebooks/pokemon_images/garbodor.png', '/content/drive/MyDrive/colab_notebooks/pokemon_images/tyranitar.png', '/content/drive/MyDrive/colab_notebooks/pokemon_images/fletchling.png', '/content/drive/MyDrive/colab_notebooks/pokemon_images/rockruff.png', '/content/drive/MyDrive/colab_notebooks/pokemon_images/croagunk.png', '/content/drive/MyDrive/colab_notebooks/pokemon_images/timburr.png', '/content/drive/MyDrive/colab_notebooks/pokemon_images/keldeo-ordinary.png', '/content/drive/MyDrive/colab_notebooks/pokemon_images/bounsweet.png', '/content/drive/MyDrive/colab_notebooks/pokemon_images/pidove.png', '/content/drive/MyDrive/colab_notebooks/pokemon_images/liepard.png', '/content/drive/MyDrive/colab_notebooks/pokemon_images/kecleon.png', '/content/drive/MyDrive/colab_notebooks/pokemon_images/talonflame.png', '/content/drive/MyDrive/colab_notebooks/pokemon_images/meltan.png', '/content/drive/MyDrive/colab_notebooks/pokemon_images/charmeleon.png', '/content/drive/MyDrive/colab_notebooks/pokemon_images/bellossom.png', '/content/drive/MyDrive/colab_notebooks/pokemon_images/luvdisc.png', '/content/drive/MyDrive/colab_notebooks/pokemon_images/delibird.png', '/content/drive/MyDrive/colab_notebooks/pokemon_images/beldum.png', '/content/drive/MyDrive/colab_notebooks/pokemon_images/archen.png', '/content/drive/MyDrive/colab_notebooks/pokemon_images/lileep.png', '/content/drive/MyDrive/colab_notebooks/pokemon_images/clawitzer.png', '/content/drive/MyDrive/colab_notebooks/pokemon_images/celesteela.png', '/content/drive/MyDrive/colab_notebooks/pokemon_images/duosion.png', '/content/drive/MyDrive/colab_notebooks/pokemon_images/meditite.png', '/content/drive/MyDrive/colab_notebooks/pokemon_images/torterra.png', '/content/drive/MyDrive/colab_notebooks/pokemon_images/elgyem.png', '/content/drive/MyDrive/colab_notebooks/pokemon_images/heatran.png', '/content/drive/MyDrive/colab_notebooks/pokemon_images/breloom.png', '/content/drive/MyDrive/colab_notebooks/pokemon_images/mimikyu.png', '/content/drive/MyDrive/colab_notebooks/pokemon_images/passimian.png', '/content/drive/MyDrive/colab_notebooks/pokemon_images/kyogre.png', '/content/drive/MyDrive/colab_notebooks/pokemon_images/silvally.png', '/content/drive/MyDrive/colab_notebooks/pokemon_images/granbull.png', '/content/drive/MyDrive/colab_notebooks/pokemon_images/litleo.png', '/content/drive/MyDrive/colab_notebooks/pokemon_images/tympole.png', '/content/drive/MyDrive/colab_notebooks/pokemon_images/rhydon.png', '/content/drive/MyDrive/colab_notebooks/pokemon_images/castform.png', '/content/drive/MyDrive/colab_notebooks/pokemon_images/delphox.png', '/content/drive/MyDrive/colab_notebooks/pokemon_images/druddigon.png', '/content/drive/MyDrive/colab_notebooks/pokemon_images/swadloon.png', '/content/drive/MyDrive/colab_notebooks/pokemon_images/latias.png', '/content/drive/MyDrive/colab_notebooks/pokemon_images/houndour.png', '/content/drive/MyDrive/colab_notebooks/pokemon_images/dialga.png', '/content/drive/MyDrive/colab_notebooks/pokemon_images/dratini.png', '/content/drive/MyDrive/colab_notebooks/pokemon_images/scatterbug.png', '/content/drive/MyDrive/colab_notebooks/pokemon_images/taillow.png', '/content/drive/MyDrive/colab_notebooks/pokemon_images/bronzor.png', '/content/drive/MyDrive/colab_notebooks/pokemon_images/swampert.png', '/content/drive/MyDrive/colab_notebooks/pokemon_images/staraptor.png', '/content/drive/MyDrive/colab_notebooks/pokemon_images/cutiefly.png', '/content/drive/MyDrive/colab_notebooks/pokemon_images/machamp.png', '/content/drive/MyDrive/colab_notebooks/pokemon_images/helioptile.png', '/content/drive/MyDrive/colab_notebooks/pokemon_images/flabebe.png', '/content/drive/MyDrive/colab_notebooks/pokemon_images/clamperl.png', '/content/drive/MyDrive/colab_notebooks/pokemon_images/malamar.png', '/content/drive/MyDrive/colab_notebooks/pokemon_images/zigzagoon.png', '/content/drive/MyDrive/colab_notebooks/pokemon_images/clefable.png', '/content/drive/MyDrive/colab_notebooks/pokemon_images/squirtle.png', '/content/drive/MyDrive/colab_notebooks/pokemon_images/cranidos.png', '/content/drive/MyDrive/colab_notebooks/pokemon_images/swablu.png', '/content/drive/MyDrive/colab_notebooks/pokemon_images/floatzel.png', '/content/drive/MyDrive/colab_notebooks/pokemon_images/frillish.png', '/content/drive/MyDrive/colab_notebooks/pokemon_images/ludicolo.png', '/content/drive/MyDrive/colab_notebooks/pokemon_images/hitmonlee.png', '/content/drive/MyDrive/colab_notebooks/pokemon_images/bellsprout.png', '/content/drive/MyDrive/colab_notebooks/pokemon_images/mudbray.png', '/content/drive/MyDrive/colab_notebooks/pokemon_images/rattata.png', '/content/drive/MyDrive/colab_notebooks/pokemon_images/bunnelby.png', '/content/drive/MyDrive/colab_notebooks/pokemon_images/persian.png', '/content/drive/MyDrive/colab_notebooks/pokemon_images/wurmple.png', '/content/drive/MyDrive/colab_notebooks/pokemon_images/dwebble.png', '/content/drive/MyDrive/colab_notebooks/pokemon_images/buizel.png', '/content/drive/MyDrive/colab_notebooks/pokemon_images/tapu-bulu.png', '/content/drive/MyDrive/colab_notebooks/pokemon_images/volcarona.png', '/content/drive/MyDrive/colab_notebooks/pokemon_images/pansear.png', '/content/drive/MyDrive/colab_notebooks/pokemon_images/meganium.png', '/content/drive/MyDrive/colab_notebooks/pokemon_images/larvitar.png', '/content/drive/MyDrive/colab_notebooks/pokemon_images/drifblim.png', '/content/drive/MyDrive/colab_notebooks/pokemon_images/tsareena.png', '/content/drive/MyDrive/colab_notebooks/pokemon_images/kabutops.png', '/content/drive/MyDrive/colab_notebooks/pokemon_images/escavalier.png', '/content/drive/MyDrive/colab_notebooks/pokemon_images/tangela.png', '/content/drive/MyDrive/colab_notebooks/pokemon_images/shuppet.png', '/content/drive/MyDrive/colab_notebooks/pokemon_images/prinplup.png', '/content/drive/MyDrive/colab_notebooks/pokemon_images/nuzleaf.png', '/content/drive/MyDrive/colab_notebooks/pokemon_images/whimsicott.png', '/content/drive/MyDrive/colab_notebooks/pokemon_images/krookodile.png', '/content/drive/MyDrive/colab_notebooks/pokemon_images/bergmite.png', '/content/drive/MyDrive/colab_notebooks/pokemon_images/leafeon.png', '/content/drive/MyDrive/colab_notebooks/pokemon_images/victreebel.png', '/content/drive/MyDrive/colab_notebooks/pokemon_images/cascoon.png', '/content/drive/MyDrive/colab_notebooks/pokemon_images/geodude.png', '/content/drive/MyDrive/colab_notebooks/pokemon_images/shiinotic.png', '/content/drive/MyDrive/colab_notebooks/pokemon_images/leavanny.png', '/content/drive/MyDrive/colab_notebooks/pokemon_images/golduck.png', '/content/drive/MyDrive/colab_notebooks/pokemon_images/lickilicky.png', '/content/drive/MyDrive/colab_notebooks/pokemon_images/gulpin.png', '/content/drive/MyDrive/colab_notebooks/pokemon_images/remoraid.png', '/content/drive/MyDrive/colab_notebooks/pokemon_images/miltank.png', '/content/drive/MyDrive/colab_notebooks/pokemon_images/dedenne.png', '/content/drive/MyDrive/colab_notebooks/pokemon_images/darkrai.png', '/content/drive/MyDrive/colab_notebooks/pokemon_images/beedrill.png', '/content/drive/MyDrive/colab_notebooks/pokemon_images/machop.png', '/content/drive/MyDrive/colab_notebooks/pokemon_images/boldore.png', '/content/drive/MyDrive/colab_notebooks/pokemon_images/landorus-incarnate.png', '/content/drive/MyDrive/colab_notebooks/pokemon_images/sealeo.png', '/content/drive/MyDrive/colab_notebooks/pokemon_images/electabuzz.png', '/content/drive/MyDrive/colab_notebooks/pokemon_images/sigilyph.png', '/content/drive/MyDrive/colab_notebooks/pokemon_images/yamask.png', '/content/drive/MyDrive/colab_notebooks/pokemon_images/smeargle.png', '/content/drive/MyDrive/colab_notebooks/pokemon_images/slowbro.png', '/content/drive/MyDrive/colab_notebooks/pokemon_images/brionne.png', '/content/drive/MyDrive/colab_notebooks/pokemon_images/sliggoo.png', '/content/drive/MyDrive/colab_notebooks/pokemon_images/ho-oh.png', '/content/drive/MyDrive/colab_notebooks/pokemon_images/cofagrigus.png', '/content/drive/MyDrive/colab_notebooks/pokemon_images/lombre.png', '/content/drive/MyDrive/colab_notebooks/pokemon_images/munna.png', '/content/drive/MyDrive/colab_notebooks/pokemon_images/spiritomb.png', '/content/drive/MyDrive/colab_notebooks/pokemon_images/florges.png', '/content/drive/MyDrive/colab_notebooks/pokemon_images/umbreon.png', '/content/drive/MyDrive/colab_notebooks/pokemon_images/spinda.png', '/content/drive/MyDrive/colab_notebooks/pokemon_images/regice.png', '/content/drive/MyDrive/colab_notebooks/pokemon_images/ampharos.png', '/content/drive/MyDrive/colab_notebooks/pokemon_images/yungoos.png', '/content/drive/MyDrive/colab_notebooks/pokemon_images/honedge.png', '/content/drive/MyDrive/colab_notebooks/pokemon_images/dartrix.png', '/content/drive/MyDrive/colab_notebooks/pokemon_images/burmy.png', '/content/drive/MyDrive/colab_notebooks/pokemon_images/purugly.png', '/content/drive/MyDrive/colab_notebooks/pokemon_images/sandygast.png', '/content/drive/MyDrive/colab_notebooks/pokemon_images/moltres.png', '/content/drive/MyDrive/colab_notebooks/pokemon_images/pyukumuku.png', '/content/drive/MyDrive/colab_notebooks/pokemon_images/wailord.png', '/content/drive/MyDrive/colab_notebooks/pokemon_images/shieldon.png', '/content/drive/MyDrive/colab_notebooks/pokemon_images/regigigas.png', '/content/drive/MyDrive/colab_notebooks/pokemon_images/vileplume.png', '/content/drive/MyDrive/colab_notebooks/pokemon_images/marowak.png', '/content/drive/MyDrive/colab_notebooks/pokemon_images/vullaby.png', '/content/drive/MyDrive/colab_notebooks/pokemon_images/psyduck.png', '/content/drive/MyDrive/colab_notebooks/pokemon_images/yveltal.png', '/content/drive/MyDrive/colab_notebooks/pokemon_images/stufful.png', '/content/drive/MyDrive/colab_notebooks/pokemon_images/lopunny.png', '/content/drive/MyDrive/colab_notebooks/pokemon_images/lanturn.png', '/content/drive/MyDrive/colab_notebooks/pokemon_images/magikarp.png', '/content/drive/MyDrive/colab_notebooks/pokemon_images/minun.png', '/content/drive/MyDrive/colab_notebooks/pokemon_images/ariados.png', '/content/drive/MyDrive/colab_notebooks/pokemon_images/ivysaur.png', '/content/drive/MyDrive/colab_notebooks/pokemon_images/shroomish.png', '/content/drive/MyDrive/colab_notebooks/pokemon_images/pyroar.png', '/content/drive/MyDrive/colab_notebooks/pokemon_images/oricorio-baile.png', '/content/drive/MyDrive/colab_notebooks/pokemon_images/marill.png', '/content/drive/MyDrive/colab_notebooks/pokemon_images/venusaur.png', '/content/drive/MyDrive/colab_notebooks/pokemon_images/torracat.png', '/content/drive/MyDrive/colab_notebooks/pokemon_images/cacturne.png', '/content/drive/MyDrive/colab_notebooks/pokemon_images/jynx.png', '/content/drive/MyDrive/colab_notebooks/pokemon_images/infernape.png', '/content/drive/MyDrive/colab_notebooks/pokemon_images/rhyhorn.png', '/content/drive/MyDrive/colab_notebooks/pokemon_images/xurkitree.png', '/content/drive/MyDrive/colab_notebooks/pokemon_images/larvesta.png', '/content/drive/MyDrive/colab_notebooks/pokemon_images/excadrill.png', '/content/drive/MyDrive/colab_notebooks/pokemon_images/sylveon.png', '/content/drive/MyDrive/colab_notebooks/pokemon_images/zweilous.png', '/content/drive/MyDrive/colab_notebooks/pokemon_images/sentret.png', '/content/drive/MyDrive/colab_notebooks/pokemon_images/qwilfish.png', '/content/drive/MyDrive/colab_notebooks/pokemon_images/pumpkaboo-average.png', '/content/drive/MyDrive/colab_notebooks/pokemon_images/gogoat.png', '/content/drive/MyDrive/colab_notebooks/pokemon_images/cubone.png', '/content/drive/MyDrive/colab_notebooks/pokemon_images/pancham.png', '/content/drive/MyDrive/colab_notebooks/pokemon_images/pheromosa.png', '/content/drive/MyDrive/colab_notebooks/pokemon_images/slaking.png', '/content/drive/MyDrive/colab_notebooks/pokemon_images/wooper.png', '/content/drive/MyDrive/colab_notebooks/pokemon_images/bayleef.png', '/content/drive/MyDrive/colab_notebooks/pokemon_images/absol.png', '/content/drive/MyDrive/colab_notebooks/pokemon_images/grumpig.png', '/content/drive/MyDrive/colab_notebooks/pokemon_images/chinchou.png', '/content/drive/MyDrive/colab_notebooks/pokemon_images/haunter.png', '/content/drive/MyDrive/colab_notebooks/pokemon_images/chikorita.png', '/content/drive/MyDrive/colab_notebooks/pokemon_images/chespin.png', '/content/drive/MyDrive/colab_notebooks/pokemon_images/gothorita.png', '/content/drive/MyDrive/colab_notebooks/pokemon_images/wingull.png', '/content/drive/MyDrive/colab_notebooks/pokemon_images/grubbin.png', '/content/drive/MyDrive/colab_notebooks/pokemon_images/binacle.png', '/content/drive/MyDrive/colab_notebooks/pokemon_images/mienfoo.png', '/content/drive/MyDrive/colab_notebooks/pokemon_images/spritzee.png', '/content/drive/MyDrive/colab_notebooks/pokemon_images/anorith.png', '/content/drive/MyDrive/colab_notebooks/pokemon_images/espeon.png', '/content/drive/MyDrive/colab_notebooks/pokemon_images/lapras.png', '/content/drive/MyDrive/colab_notebooks/pokemon_images/skuntank.png', '/content/drive/MyDrive/colab_notebooks/pokemon_images/dragonair.png', '/content/drive/MyDrive/colab_notebooks/pokemon_images/farfetchd.png', '/content/drive/MyDrive/colab_notebooks/pokemon_images/zapdos.png', '/content/drive/MyDrive/colab_notebooks/pokemon_images/chesnaught.png', '/content/drive/MyDrive/colab_notebooks/pokemon_images/arcanine.png', '/content/drive/MyDrive/colab_notebooks/pokemon_images/weedle.png', '/content/drive/MyDrive/colab_notebooks/pokemon_images/hoothoot.png', '/content/drive/MyDrive/colab_notebooks/pokemon_images/hitmonchan.png', '/content/drive/MyDrive/colab_notebooks/pokemon_images/emolga.png', '/content/drive/MyDrive/colab_notebooks/pokemon_images/staryu.png', '/content/drive/MyDrive/colab_notebooks/pokemon_images/toucannon.png', '/content/drive/MyDrive/colab_notebooks/pokemon_images/seismitoad.png', '/content/drive/MyDrive/colab_notebooks/pokemon_images/glameow.png', '/content/drive/MyDrive/colab_notebooks/pokemon_images/dewpider.png', '/content/drive/MyDrive/colab_notebooks/pokemon_images/phione.png', '/content/drive/MyDrive/colab_notebooks/pokemon_images/rapidash.png', '/content/drive/MyDrive/colab_notebooks/pokemon_images/happiny.png', '/content/drive/MyDrive/colab_notebooks/pokemon_images/dewgong.png', '/content/drive/MyDrive/colab_notebooks/pokemon_images/purrloin.png', '/content/drive/MyDrive/colab_notebooks/pokemon_images/lampent.png', '/content/drive/MyDrive/colab_notebooks/pokemon_images/exeggutor.png', '/content/drive/MyDrive/colab_notebooks/pokemon_images/hypno.png', '/content/drive/MyDrive/colab_notebooks/pokemon_images/gliscor.png', '/content/drive/MyDrive/colab_notebooks/pokemon_images/thundurus-incarnate.png', '/content/drive/MyDrive/colab_notebooks/pokemon_images/swellow.png', '/content/drive/MyDrive/colab_notebooks/pokemon_images/cacnea.png', '/content/drive/MyDrive/colab_notebooks/pokemon_images/guzzlord.png', '/content/drive/MyDrive/colab_notebooks/pokemon_images/jolteon.png', '/content/drive/MyDrive/colab_notebooks/pokemon_images/clefairy.png', '/content/drive/MyDrive/colab_notebooks/pokemon_images/bulbasaur.png', '/content/drive/MyDrive/colab_notebooks/pokemon_images/tauros.png', '/content/drive/MyDrive/colab_notebooks/pokemon_images/virizion.png', '/content/drive/MyDrive/colab_notebooks/pokemon_images/zorua.png', '/content/drive/MyDrive/colab_notebooks/pokemon_images/primeape.png', '/content/drive/MyDrive/colab_notebooks/pokemon_images/gorebyss.png', '/content/drive/MyDrive/colab_notebooks/pokemon_images/giratina-altered.png', '/content/drive/MyDrive/colab_notebooks/pokemon_images/victini.png', '/content/drive/MyDrive/colab_notebooks/pokemon_images/azumarill.png', '/content/drive/MyDrive/colab_notebooks/pokemon_images/phanpy.png', '/content/drive/MyDrive/colab_notebooks/pokemon_images/litwick.png', '/content/drive/MyDrive/colab_notebooks/pokemon_images/zangoose.png', '/content/drive/MyDrive/colab_notebooks/pokemon_images/sunflora.png', '/content/drive/MyDrive/colab_notebooks/pokemon_images/vanilluxe.png', '/content/drive/MyDrive/colab_notebooks/pokemon_images/ninjask.png', '/content/drive/MyDrive/colab_notebooks/pokemon_images/poliwrath.png', '/content/drive/MyDrive/colab_notebooks/pokemon_images/baltoy.png', '/content/drive/MyDrive/colab_notebooks/pokemon_images/flaaffy.png', '/content/drive/MyDrive/colab_notebooks/pokemon_images/mantine.png', '/content/drive/MyDrive/colab_notebooks/pokemon_images/fennekin.png', '/content/drive/MyDrive/colab_notebooks/pokemon_images/salazzle.png', '/content/drive/MyDrive/colab_notebooks/pokemon_images/trevenant.png', '/content/drive/MyDrive/colab_notebooks/pokemon_images/samurott.png', '/content/drive/MyDrive/colab_notebooks/pokemon_images/cosmog.png', '/content/drive/MyDrive/colab_notebooks/pokemon_images/graveler.png', '/content/drive/MyDrive/colab_notebooks/pokemon_images/charmander.png', '/content/drive/MyDrive/colab_notebooks/pokemon_images/dunsparce.png', '/content/drive/MyDrive/colab_notebooks/pokemon_images/skorupi.png', '/content/drive/MyDrive/colab_notebooks/pokemon_images/mantyke.png', '/content/drive/MyDrive/colab_notebooks/pokemon_images/archeops.png', '/content/drive/MyDrive/colab_notebooks/pokemon_images/onix.png', '/content/drive/MyDrive/colab_notebooks/pokemon_images/solrock.png', '/content/drive/MyDrive/colab_notebooks/pokemon_images/dodrio.png', '/content/drive/MyDrive/colab_notebooks/pokemon_images/combee.png', '/content/drive/MyDrive/colab_notebooks/pokemon_images/articuno.png', '/content/drive/MyDrive/colab_notebooks/pokemon_images/aron.png', '/content/drive/MyDrive/colab_notebooks/pokemon_images/genesect.png', '/content/drive/MyDrive/colab_notebooks/pokemon_images/durant.png', '/content/drive/MyDrive/colab_notebooks/pokemon_images/electrike.png', '/content/drive/MyDrive/colab_notebooks/pokemon_images/watchog.png', '/content/drive/MyDrive/colab_notebooks/pokemon_images/quilladin.png', '/content/drive/MyDrive/colab_notebooks/pokemon_images/diggersby.png', '/content/drive/MyDrive/colab_notebooks/pokemon_images/solosis.png', '/content/drive/MyDrive/colab_notebooks/pokemon_images/noibat.png']\n"
          ]
        }
      ]
    },
    {
      "cell_type": "markdown",
      "source": [
        "## Building data lists"
      ],
      "metadata": {
        "id": "-3Wb8za97CGz"
      }
    },
    {
      "cell_type": "markdown",
      "source": [
        "$\\rightarrow$ Transforming the data into a form that is useful to the model."
      ],
      "metadata": {
        "id": "yVf2ap0i7LrS"
      }
    },
    {
      "cell_type": "code",
      "source": [
        "X = np.zeros((len(files), 57600))\n",
        "ytemp = []\n",
        "for ii, filepath in enumerate(files):\n",
        "  pokemon_name = filepath.split(\"/\")[-1].split(\".png\")[0]\n",
        "  img = imread(filepath)\n",
        "  X[ii, :] = img.flatten()\n",
        "\n",
        "  # Extracting characteristics\n",
        "  type_1 = df.loc[df[\"Name\"] == pokemon_name, \"Type1\"].values.item()\n",
        "  ytemp.append(type_1)"
      ],
      "metadata": {
        "id": "XddCInV8QbTv"
      },
      "execution_count": 7,
      "outputs": []
    },
    {
      "cell_type": "code",
      "source": [
        "ytemp"
      ],
      "metadata": {
        "colab": {
          "base_uri": "https://localhost:8080/"
        },
        "id": "XsM4vrjwRI6y",
        "outputId": "1a7b330c-e536-454f-8f34-0de487370138"
      },
      "execution_count": 8,
      "outputs": [
        {
          "output_type": "execute_result",
          "data": {
            "text/plain": [
              "['Dark',\n",
              " 'Dragon',\n",
              " 'Bug',\n",
              " 'Normal',\n",
              " 'Grass',\n",
              " 'Ground',\n",
              " 'Electric',\n",
              " 'Water',\n",
              " 'Fire',\n",
              " 'Psychic',\n",
              " 'Ice',\n",
              " 'Bug',\n",
              " 'Normal',\n",
              " 'Normal',\n",
              " 'Ice',\n",
              " 'Dark',\n",
              " 'Dark',\n",
              " 'Fighting',\n",
              " 'Electric',\n",
              " 'Water',\n",
              " 'Grass',\n",
              " 'Fighting',\n",
              " 'Rock',\n",
              " 'Dragon',\n",
              " 'Bug',\n",
              " 'Rock',\n",
              " 'Bug',\n",
              " 'Electric',\n",
              " 'Steel',\n",
              " 'Electric',\n",
              " 'Water',\n",
              " 'Bug',\n",
              " 'Fire',\n",
              " 'Rock',\n",
              " 'Rock',\n",
              " 'Dragon',\n",
              " 'Ghost',\n",
              " 'Water',\n",
              " 'Electric',\n",
              " 'Fire',\n",
              " 'Bug',\n",
              " 'Grass',\n",
              " 'Water',\n",
              " 'Bug',\n",
              " 'Psychic',\n",
              " 'Ghost',\n",
              " 'Dragon',\n",
              " 'Grass',\n",
              " 'Bug',\n",
              " 'Ice',\n",
              " 'Psychic',\n",
              " 'Fire',\n",
              " 'Normal',\n",
              " 'Normal',\n",
              " 'Fighting',\n",
              " 'Normal',\n",
              " 'Fire',\n",
              " 'Grass',\n",
              " 'Water',\n",
              " 'Water',\n",
              " 'Water',\n",
              " 'Fighting',\n",
              " 'Normal',\n",
              " 'Ice',\n",
              " 'Electric',\n",
              " 'Grass',\n",
              " 'Psychic',\n",
              " 'Fire',\n",
              " 'Water',\n",
              " 'Water',\n",
              " 'Normal',\n",
              " 'Poison',\n",
              " 'Bug',\n",
              " 'Bug',\n",
              " 'Fire',\n",
              " 'Normal',\n",
              " 'Fire',\n",
              " 'Fighting',\n",
              " 'Rock',\n",
              " 'Ice',\n",
              " 'Steel',\n",
              " 'Electric',\n",
              " 'Ice',\n",
              " 'Bug',\n",
              " 'Rock',\n",
              " 'Bug',\n",
              " 'Water',\n",
              " 'Dragon',\n",
              " 'Ice',\n",
              " 'Water',\n",
              " 'Electric',\n",
              " 'Fighting',\n",
              " 'Water',\n",
              " 'Rock',\n",
              " 'Dragon',\n",
              " 'Ice',\n",
              " 'Bug',\n",
              " 'Psychic',\n",
              " 'Normal',\n",
              " 'Psychic',\n",
              " 'Ground',\n",
              " 'Water',\n",
              " 'Grass',\n",
              " 'Fire',\n",
              " 'Normal',\n",
              " 'Rock',\n",
              " 'Normal',\n",
              " 'Flying',\n",
              " 'Dragon',\n",
              " 'Grass',\n",
              " 'Ghost',\n",
              " 'Water',\n",
              " 'Electric',\n",
              " 'Dragon',\n",
              " 'Psychic',\n",
              " 'Psychic',\n",
              " 'Water',\n",
              " 'Bug',\n",
              " 'Bug',\n",
              " 'Psychic',\n",
              " 'Normal',\n",
              " 'Water',\n",
              " 'Water',\n",
              " 'Fairy',\n",
              " 'Psychic',\n",
              " 'Normal',\n",
              " 'Psychic',\n",
              " 'Fairy',\n",
              " 'Psychic',\n",
              " 'Fighting',\n",
              " 'Grass',\n",
              " 'Grass',\n",
              " 'Normal',\n",
              " 'Psychic',\n",
              " 'Grass',\n",
              " 'Electric',\n",
              " 'Water',\n",
              " 'Normal',\n",
              " 'Grass',\n",
              " 'Ground',\n",
              " 'Steel',\n",
              " 'Poison',\n",
              " 'Dark',\n",
              " 'Fairy',\n",
              " 'Fire',\n",
              " 'Psychic',\n",
              " 'Normal',\n",
              " 'Grass',\n",
              " 'Ghost',\n",
              " 'Dark',\n",
              " 'Poison',\n",
              " 'Ground',\n",
              " 'Psychic',\n",
              " 'Poison',\n",
              " 'Normal',\n",
              " 'Water',\n",
              " 'Electric',\n",
              " 'Normal',\n",
              " 'Psychic',\n",
              " 'Electric',\n",
              " 'Grass',\n",
              " 'Dark',\n",
              " 'Ground',\n",
              " 'Fighting',\n",
              " 'Normal',\n",
              " 'Normal',\n",
              " 'Psychic',\n",
              " 'Water',\n",
              " 'Psychic',\n",
              " 'Grass',\n",
              " 'Grass',\n",
              " 'Poison',\n",
              " 'Poison',\n",
              " 'Dragon',\n",
              " 'Psychic',\n",
              " 'Normal',\n",
              " 'Rock',\n",
              " 'Fire',\n",
              " 'Electric',\n",
              " 'Water',\n",
              " 'Grass',\n",
              " 'Fire',\n",
              " 'Ice',\n",
              " 'Dragon',\n",
              " 'Electric',\n",
              " 'Dragon',\n",
              " 'Water',\n",
              " 'Steel',\n",
              " 'Bug',\n",
              " 'Normal',\n",
              " 'Psychic',\n",
              " 'Electric',\n",
              " 'Ground',\n",
              " 'Fire',\n",
              " 'Bug',\n",
              " 'Water',\n",
              " 'Water',\n",
              " 'Electric',\n",
              " 'Electric',\n",
              " 'Bug',\n",
              " 'Bug',\n",
              " 'Poison',\n",
              " 'Ice',\n",
              " 'Steel',\n",
              " 'Psychic',\n",
              " 'Water',\n",
              " 'Water',\n",
              " 'Bug',\n",
              " 'Steel',\n",
              " 'Flying',\n",
              " 'Normal',\n",
              " 'Water',\n",
              " 'Normal',\n",
              " 'Water',\n",
              " 'Poison',\n",
              " 'Fighting',\n",
              " 'Rock',\n",
              " 'Water',\n",
              " 'Grass',\n",
              " 'Rock',\n",
              " 'Grass',\n",
              " 'Poison',\n",
              " 'Rock',\n",
              " 'Water',\n",
              " 'Fighting',\n",
              " 'Psychic',\n",
              " 'Bug',\n",
              " 'Water',\n",
              " 'Ground',\n",
              " 'Fairy',\n",
              " 'Steel',\n",
              " 'Bug',\n",
              " 'Bug',\n",
              " 'Normal',\n",
              " 'Water',\n",
              " 'Bug',\n",
              " 'Fire',\n",
              " 'Normal',\n",
              " 'Ice',\n",
              " 'Fighting',\n",
              " 'Grass',\n",
              " 'Fire',\n",
              " 'Fire',\n",
              " 'Water',\n",
              " 'Ground',\n",
              " 'Grass',\n",
              " 'Fire',\n",
              " 'Psychic',\n",
              " 'Rock',\n",
              " 'Fire',\n",
              " 'Water',\n",
              " 'Fire',\n",
              " 'Normal',\n",
              " 'Poison',\n",
              " 'Normal',\n",
              " 'Bug',\n",
              " 'Water',\n",
              " 'Water',\n",
              " 'Fairy',\n",
              " 'Normal',\n",
              " 'Ghost',\n",
              " 'Grass',\n",
              " 'Water',\n",
              " 'Rock',\n",
              " 'Psychic',\n",
              " 'Dark',\n",
              " 'Dragon',\n",
              " 'Ghost',\n",
              " 'Electric',\n",
              " 'Fire',\n",
              " 'Water',\n",
              " 'Steel',\n",
              " 'Fire',\n",
              " 'Water',\n",
              " 'Normal',\n",
              " 'Rock',\n",
              " 'Water',\n",
              " 'Grass',\n",
              " 'Water',\n",
              " 'Ground',\n",
              " 'Grass',\n",
              " 'Ghost',\n",
              " 'Water',\n",
              " 'Ground',\n",
              " 'Fire',\n",
              " 'Grass',\n",
              " 'Normal',\n",
              " 'Rock',\n",
              " 'Dark',\n",
              " 'Grass',\n",
              " 'Normal',\n",
              " 'Fire',\n",
              " 'Fire',\n",
              " 'Normal',\n",
              " 'Bug',\n",
              " 'Grass',\n",
              " 'Psychic',\n",
              " 'Rock',\n",
              " 'Psychic',\n",
              " 'Electric',\n",
              " 'Steel',\n",
              " 'Normal',\n",
              " 'Water',\n",
              " 'Steel',\n",
              " 'Water',\n",
              " 'Normal',\n",
              " 'Psychic',\n",
              " 'Electric',\n",
              " 'Poison',\n",
              " 'Psychic',\n",
              " 'Fire',\n",
              " 'Grass',\n",
              " 'Poison',\n",
              " 'Steel',\n",
              " 'Water',\n",
              " 'Poison',\n",
              " 'Dragon',\n",
              " 'Water',\n",
              " 'Electric',\n",
              " 'Water',\n",
              " 'Bug',\n",
              " 'Dragon',\n",
              " 'Ground',\n",
              " 'Grass',\n",
              " 'Psychic',\n",
              " 'Normal',\n",
              " 'Psychic',\n",
              " 'Water',\n",
              " 'Fighting',\n",
              " 'Water',\n",
              " 'Ground',\n",
              " 'Fire',\n",
              " 'Fighting',\n",
              " 'Poison',\n",
              " 'Dragon',\n",
              " 'Ground',\n",
              " 'Bug',\n",
              " 'Fairy',\n",
              " 'Rock',\n",
              " 'Psychic',\n",
              " 'Dark',\n",
              " 'Normal',\n",
              " 'Grass',\n",
              " 'Psychic',\n",
              " 'Water',\n",
              " 'Steel',\n",
              " 'Grass',\n",
              " 'Normal',\n",
              " 'Rock',\n",
              " 'Fire',\n",
              " 'Bug',\n",
              " 'Normal',\n",
              " 'Dark',\n",
              " 'Dark',\n",
              " 'Water',\n",
              " 'Fighting',\n",
              " 'Bug',\n",
              " 'Normal',\n",
              " 'Water',\n",
              " 'Poison',\n",
              " 'Dragon',\n",
              " 'Bug',\n",
              " 'Bug',\n",
              " 'Rock',\n",
              " 'Rock',\n",
              " 'Ghost',\n",
              " 'Steel',\n",
              " 'Poison',\n",
              " 'Normal',\n",
              " 'Psychic',\n",
              " 'Ice',\n",
              " 'Dark',\n",
              " 'Ice',\n",
              " 'Bug',\n",
              " 'Electric',\n",
              " 'Water',\n",
              " 'Poison',\n",
              " 'Ghost',\n",
              " 'Fairy',\n",
              " 'Bug',\n",
              " 'Grass',\n",
              " 'Water',\n",
              " 'Dragon',\n",
              " 'Rock',\n",
              " 'Normal',\n",
              " 'Water',\n",
              " 'Psychic',\n",
              " 'Ground',\n",
              " 'Fire',\n",
              " 'Normal',\n",
              " 'Fire',\n",
              " 'Bug',\n",
              " 'Dragon',\n",
              " 'Grass',\n",
              " 'Fighting',\n",
              " 'Water',\n",
              " 'Bug',\n",
              " 'Normal',\n",
              " 'Rock',\n",
              " 'Psychic',\n",
              " 'Bug',\n",
              " 'Fighting',\n",
              " 'Bug',\n",
              " 'Water',\n",
              " 'Rock',\n",
              " 'Ghost',\n",
              " 'Water',\n",
              " 'Steel',\n",
              " 'Poison',\n",
              " 'Electric',\n",
              " 'Water',\n",
              " 'Bug',\n",
              " 'Grass',\n",
              " 'Bug',\n",
              " 'Water',\n",
              " 'Electric',\n",
              " 'Ice',\n",
              " 'Normal',\n",
              " 'Normal',\n",
              " 'Dark',\n",
              " 'Grass',\n",
              " 'Fire',\n",
              " 'Bug',\n",
              " 'Water',\n",
              " 'Ice',\n",
              " 'Psychic',\n",
              " 'Bug',\n",
              " 'Fire',\n",
              " 'Bug',\n",
              " 'Grass',\n",
              " 'Psychic',\n",
              " 'Normal',\n",
              " 'Normal',\n",
              " 'Psychic',\n",
              " 'Rock',\n",
              " 'Fighting',\n",
              " 'Water',\n",
              " 'Poison',\n",
              " 'Grass',\n",
              " 'Ground',\n",
              " 'Poison',\n",
              " 'Grass',\n",
              " 'Normal',\n",
              " 'Rock',\n",
              " 'Rock',\n",
              " 'Ghost',\n",
              " 'Fairy',\n",
              " 'Normal',\n",
              " 'Poison',\n",
              " 'Normal',\n",
              " 'Fire',\n",
              " 'Water',\n",
              " 'Normal',\n",
              " 'Normal',\n",
              " 'Dragon',\n",
              " 'Grass',\n",
              " 'Bug',\n",
              " 'Fire',\n",
              " 'Water',\n",
              " 'Steel',\n",
              " 'Ground',\n",
              " 'Water',\n",
              " 'Ground',\n",
              " 'Fairy',\n",
              " 'Electric',\n",
              " 'Bug',\n",
              " 'Water',\n",
              " 'Dark',\n",
              " 'Poison',\n",
              " 'Grass',\n",
              " 'Normal',\n",
              " 'Psychic',\n",
              " 'Normal',\n",
              " 'Bug',\n",
              " 'Ice',\n",
              " 'Bug',\n",
              " 'Bug',\n",
              " 'Normal',\n",
              " 'Ground',\n",
              " 'Poison',\n",
              " 'Rock',\n",
              " 'Fire',\n",
              " 'Normal',\n",
              " 'Steel',\n",
              " 'Normal',\n",
              " 'Normal',\n",
              " 'Water',\n",
              " 'Fire',\n",
              " 'Water',\n",
              " 'Normal',\n",
              " 'Dragon',\n",
              " 'Psychic',\n",
              " 'Poison',\n",
              " 'Fire',\n",
              " 'Electric',\n",
              " 'Water',\n",
              " 'Electric',\n",
              " 'Normal',\n",
              " 'Normal',\n",
              " 'Steel',\n",
              " 'Bug',\n",
              " 'Poison',\n",
              " 'Poison',\n",
              " 'Psychic',\n",
              " 'Grass',\n",
              " 'Electric',\n",
              " 'Ghost',\n",
              " 'Dark',\n",
              " 'Fighting',\n",
              " 'Fairy',\n",
              " 'Rock',\n",
              " 'Water',\n",
              " 'Grass',\n",
              " 'Ghost',\n",
              " 'Dragon',\n",
              " 'Fighting',\n",
              " 'Water',\n",
              " 'Fairy',\n",
              " 'Ghost',\n",
              " 'Water',\n",
              " 'Normal',\n",
              " 'Normal',\n",
              " 'Water',\n",
              " 'Psychic',\n",
              " 'Grass',\n",
              " 'Normal',\n",
              " 'Steel',\n",
              " 'Fire',\n",
              " 'Dragon',\n",
              " 'Rock',\n",
              " 'Bug',\n",
              " 'Normal',\n",
              " 'Ground',\n",
              " 'Bug',\n",
              " 'Grass',\n",
              " 'Ground',\n",
              " 'Grass',\n",
              " 'Poison',\n",
              " 'Normal',\n",
              " 'Dark',\n",
              " 'Steel',\n",
              " 'Ground',\n",
              " 'Normal',\n",
              " 'Poison',\n",
              " 'Bug',\n",
              " 'Dark',\n",
              " 'Normal',\n",
              " 'Grass',\n",
              " 'Grass',\n",
              " 'Poison',\n",
              " 'Rock',\n",
              " 'Normal',\n",
              " 'Rock',\n",
              " 'Poison',\n",
              " 'Fighting',\n",
              " 'Water',\n",
              " 'Grass',\n",
              " 'Normal',\n",
              " 'Dark',\n",
              " 'Normal',\n",
              " 'Fire',\n",
              " 'Steel',\n",
              " 'Fire',\n",
              " 'Grass',\n",
              " 'Water',\n",
              " 'Ice',\n",
              " 'Steel',\n",
              " 'Rock',\n",
              " 'Rock',\n",
              " 'Water',\n",
              " 'Steel',\n",
              " 'Psychic',\n",
              " 'Fighting',\n",
              " 'Grass',\n",
              " 'Psychic',\n",
              " 'Fire',\n",
              " 'Grass',\n",
              " 'Ghost',\n",
              " 'Fighting',\n",
              " 'Water',\n",
              " 'Normal',\n",
              " 'Fairy',\n",
              " 'Fire',\n",
              " 'Water',\n",
              " 'Ground',\n",
              " 'Normal',\n",
              " 'Fire',\n",
              " 'Dragon',\n",
              " 'Bug',\n",
              " 'Dragon',\n",
              " 'Dark',\n",
              " 'Steel',\n",
              " 'Dragon',\n",
              " 'Bug',\n",
              " 'Normal',\n",
              " 'Steel',\n",
              " 'Water',\n",
              " 'Normal',\n",
              " 'Bug',\n",
              " 'Fighting',\n",
              " 'Electric',\n",
              " 'Fairy',\n",
              " 'Water',\n",
              " 'Dark',\n",
              " 'Normal',\n",
              " 'Fairy',\n",
              " 'Water',\n",
              " 'Rock',\n",
              " 'Normal',\n",
              " 'Water',\n",
              " 'Water',\n",
              " 'Water',\n",
              " 'Fighting',\n",
              " 'Grass',\n",
              " 'Ground',\n",
              " 'Normal',\n",
              " 'Normal',\n",
              " 'Normal',\n",
              " 'Bug',\n",
              " 'Bug',\n",
              " 'Water',\n",
              " 'Grass',\n",
              " 'Bug',\n",
              " 'Fire',\n",
              " 'Grass',\n",
              " 'Rock',\n",
              " 'Ghost',\n",
              " 'Grass',\n",
              " 'Rock',\n",
              " 'Bug',\n",
              " 'Grass',\n",
              " 'Ghost',\n",
              " 'Water',\n",
              " 'Grass',\n",
              " 'Grass',\n",
              " 'Ground',\n",
              " 'Ice',\n",
              " 'Grass',\n",
              " 'Grass',\n",
              " 'Bug',\n",
              " 'Rock',\n",
              " 'Grass',\n",
              " 'Bug',\n",
              " 'Water',\n",
              " 'Normal',\n",
              " 'Poison',\n",
              " 'Water',\n",
              " 'Normal',\n",
              " 'Electric',\n",
              " 'Dark',\n",
              " 'Bug',\n",
              " 'Fighting',\n",
              " 'Rock',\n",
              " 'Ground',\n",
              " 'Ice',\n",
              " 'Electric',\n",
              " 'Psychic',\n",
              " 'Ghost',\n",
              " 'Normal',\n",
              " 'Water',\n",
              " 'Water',\n",
              " 'Dragon',\n",
              " 'Fire',\n",
              " 'Ghost',\n",
              " 'Water',\n",
              " 'Psychic',\n",
              " 'Ghost',\n",
              " 'Fairy',\n",
              " 'Dark',\n",
              " 'Normal',\n",
              " 'Ice',\n",
              " 'Electric',\n",
              " 'Normal',\n",
              " 'Steel',\n",
              " 'Grass',\n",
              " 'Bug',\n",
              " 'Normal',\n",
              " 'Ghost',\n",
              " 'Fire',\n",
              " 'Water',\n",
              " 'Water',\n",
              " 'Rock',\n",
              " 'Normal',\n",
              " 'Grass',\n",
              " 'Ground',\n",
              " 'Dark',\n",
              " 'Water',\n",
              " 'Dark',\n",
              " 'Normal',\n",
              " 'Normal',\n",
              " 'Water',\n",
              " 'Water',\n",
              " 'Electric',\n",
              " 'Bug',\n",
              " 'Grass',\n",
              " 'Grass',\n",
              " 'Fire',\n",
              " 'Fire',\n",
              " 'Water',\n",
              " 'Grass',\n",
              " 'Fire',\n",
              " 'Grass',\n",
              " 'Ice',\n",
              " 'Fire',\n",
              " 'Ground',\n",
              " 'Electric',\n",
              " 'Bug',\n",
              " 'Ground',\n",
              " 'Fairy',\n",
              " 'Dark',\n",
              " 'Normal',\n",
              " 'Water',\n",
              " 'Ghost',\n",
              " 'Grass',\n",
              " 'Ground',\n",
              " 'Fighting',\n",
              " 'Bug',\n",
              " 'Normal',\n",
              " 'Water',\n",
              " 'Grass',\n",
              " 'Dark',\n",
              " 'Psychic',\n",
              " 'Water',\n",
              " 'Ghost',\n",
              " 'Grass',\n",
              " 'Grass',\n",
              " 'Psychic',\n",
              " 'Water',\n",
              " 'Bug',\n",
              " 'Rock',\n",
              " 'Fighting',\n",
              " 'Fairy',\n",
              " 'Rock',\n",
              " 'Psychic',\n",
              " 'Water',\n",
              " 'Poison',\n",
              " 'Dragon',\n",
              " 'Normal',\n",
              " 'Electric',\n",
              " 'Grass',\n",
              " 'Fire',\n",
              " 'Bug',\n",
              " 'Normal',\n",
              " 'Fighting',\n",
              " 'Electric',\n",
              " 'Water',\n",
              " 'Normal',\n",
              " 'Water',\n",
              " 'Normal',\n",
              " 'Water',\n",
              " 'Water',\n",
              " 'Fire',\n",
              " 'Normal',\n",
              " 'Water',\n",
              " 'Dark',\n",
              " 'Ghost',\n",
              " 'Grass',\n",
              " 'Psychic',\n",
              " 'Ground',\n",
              " 'Electric',\n",
              " 'Normal',\n",
              " 'Grass',\n",
              " 'Dark',\n",
              " 'Electric',\n",
              " 'Fairy',\n",
              " 'Grass',\n",
              " 'Normal',\n",
              " 'Grass',\n",
              " 'Dark',\n",
              " 'Fighting',\n",
              " 'Water',\n",
              " 'Ghost',\n",
              " 'Psychic',\n",
              " 'Water',\n",
              " 'Ground',\n",
              " 'Ghost',\n",
              " 'Normal',\n",
              " 'Grass',\n",
              " 'Ice',\n",
              " 'Bug',\n",
              " 'Water',\n",
              " 'Ground',\n",
              " 'Electric',\n",
              " 'Water',\n",
              " 'Fire',\n",
              " 'Poison',\n",
              " 'Ghost',\n",
              " 'Water',\n",
              " 'Psychic',\n",
              " 'Rock',\n",
              " 'Fire',\n",
              " 'Normal',\n",
              " 'Poison',\n",
              " 'Water',\n",
              " 'Rock',\n",
              " 'Rock',\n",
              " 'Rock',\n",
              " 'Normal',\n",
              " 'Bug',\n",
              " 'Ice',\n",
              " 'Steel',\n",
              " 'Bug',\n",
              " 'Bug',\n",
              " 'Electric',\n",
              " 'Normal',\n",
              " 'Grass',\n",
              " 'Normal',\n",
              " 'Psychic',\n",
              " 'Flying']"
            ]
          },
          "metadata": {},
          "execution_count": 8
        }
      ]
    },
    {
      "cell_type": "code",
      "source": [
        "from sklearn.preprocessing import LabelEncoder\n",
        "y = LabelEncoder().fit_transform(ytemp)"
      ],
      "metadata": {
        "id": "VYL9zOvtSrQC"
      },
      "execution_count": 9,
      "outputs": []
    },
    {
      "cell_type": "code",
      "source": [
        "y"
      ],
      "metadata": {
        "colab": {
          "base_uri": "https://localhost:8080/"
        },
        "id": "aztyzJMrStcY",
        "outputId": "17e14738-b4c0-482d-fc65-30e25ee334cb"
      },
      "execution_count": 10,
      "outputs": [
        {
          "output_type": "execute_result",
          "data": {
            "text/plain": [
              "array([ 1,  2,  0, 12,  9, 10,  3, 17,  6, 14, 11,  0, 12, 12, 11,  1,  1,\n",
              "        5,  3, 17,  9,  5, 15,  2,  0, 15,  0,  3, 16,  3, 17,  0,  6, 15,\n",
              "       15,  2,  8, 17,  3,  6,  0,  9, 17,  0, 14,  8,  2,  9,  0, 11, 14,\n",
              "        6, 12, 12,  5, 12,  6,  9, 17, 17, 17,  5, 12, 11,  3,  9, 14,  6,\n",
              "       17, 17, 12, 13,  0,  0,  6, 12,  6,  5, 15, 11, 16,  3, 11,  0, 15,\n",
              "        0, 17,  2, 11, 17,  3,  5, 17, 15,  2, 11,  0, 14, 12, 14, 10, 17,\n",
              "        9,  6, 12, 15, 12,  7,  2,  9,  8, 17,  3,  2, 14, 14, 17,  0,  0,\n",
              "       14, 12, 17, 17,  4, 14, 12, 14,  4, 14,  5,  9,  9, 12, 14,  9,  3,\n",
              "       17, 12,  9, 10, 16, 13,  1,  4,  6, 14, 12,  9,  8,  1, 13, 10, 14,\n",
              "       13, 12, 17,  3, 12, 14,  3,  9,  1, 10,  5, 12, 12, 14, 17, 14,  9,\n",
              "        9, 13, 13,  2, 14, 12, 15,  6,  3, 17,  9,  6, 11,  2,  3,  2, 17,\n",
              "       16,  0, 12, 14,  3, 10,  6,  0, 17, 17,  3,  3,  0,  0, 13, 11, 16,\n",
              "       14, 17, 17,  0, 16,  7, 12, 17, 12, 17, 13,  5, 15, 17,  9, 15,  9,\n",
              "       13, 15, 17,  5, 14,  0, 17, 10,  4, 16,  0,  0, 12, 17,  0,  6, 12,\n",
              "       11,  5,  9,  6,  6, 17, 10,  9,  6, 14, 15,  6, 17,  6, 12, 13, 12,\n",
              "        0, 17, 17,  4, 12,  8,  9, 17, 15, 14,  1,  2,  8,  3,  6, 17, 16,\n",
              "        6, 17, 12, 15, 17,  9, 17, 10,  9,  8, 17, 10,  6,  9, 12, 15,  1,\n",
              "        9, 12,  6,  6, 12,  0,  9, 14, 15, 14,  3, 16, 12, 17, 16, 17, 12,\n",
              "       14,  3, 13, 14,  6,  9, 13, 16, 17, 13,  2, 17,  3, 17,  0,  2, 10,\n",
              "        9, 14, 12, 14, 17,  5, 17, 10,  6,  5, 13,  2, 10,  0,  4, 15, 14,\n",
              "        1, 12,  9, 14, 17, 16,  9, 12, 15,  6,  0, 12,  1,  1, 17,  5,  0,\n",
              "       12, 17, 13,  2,  0,  0, 15, 15,  8, 16, 13, 12, 14, 11,  1, 11,  0,\n",
              "        3, 17, 13,  8,  4,  0,  9, 17,  2, 15, 12, 17, 14, 10,  6, 12,  6,\n",
              "        0,  2,  9,  5, 17,  0, 12, 15, 14,  0,  5,  0, 17, 15,  8, 17, 16,\n",
              "       13,  3, 17,  0,  9,  0, 17,  3, 11, 12, 12,  1,  9,  6,  0, 17, 11,\n",
              "       14,  0,  6,  0,  9, 14, 12, 12, 14, 15,  5, 17, 13,  9, 10, 13,  9,\n",
              "       12, 15, 15,  8,  4, 12, 13, 12,  6, 17, 12, 12,  2,  9,  0,  6, 17,\n",
              "       16, 10, 17, 10,  4,  3,  0, 17,  1, 13,  9, 12, 14, 12,  0, 11,  0,\n",
              "        0, 12, 10, 13, 15,  6, 12, 16, 12, 12, 17,  6, 17, 12,  2, 14, 13,\n",
              "        6,  3, 17,  3, 12, 12, 16,  0, 13, 13, 14,  9,  3,  8,  1,  5,  4,\n",
              "       15, 17,  9,  8,  2,  5, 17,  4,  8, 17, 12, 12, 17, 14,  9, 12, 16,\n",
              "        6,  2, 15,  0, 12, 10,  0,  9, 10,  9, 13, 12,  1, 16, 10, 12, 13,\n",
              "        0,  1, 12,  9,  9, 13, 15, 12, 15, 13,  5, 17,  9, 12,  1, 12,  6,\n",
              "       16,  6,  9, 17, 11, 16, 15, 15, 17, 16, 14,  5,  9, 14,  6,  9,  8,\n",
              "        5, 17, 12,  4,  6, 17, 10, 12,  6,  2,  0,  2,  1, 16,  2,  0, 12,\n",
              "       16, 17, 12,  0,  5,  3,  4, 17,  1, 12,  4, 17, 15, 12, 17, 17, 17,\n",
              "        5,  9, 10, 12, 12, 12,  0,  0, 17,  9,  0,  6,  9, 15,  8,  9, 15,\n",
              "        0,  9,  8, 17,  9,  9, 10, 11,  9,  9,  0, 15,  9,  0, 17, 12, 13,\n",
              "       17, 12,  3,  1,  0,  5, 15, 10, 11,  3, 14,  8, 12, 17, 17,  2,  6,\n",
              "        8, 17, 14,  8,  4,  1, 12, 11,  3, 12, 16,  9,  0, 12,  8,  6, 17,\n",
              "       17, 15, 12,  9, 10,  1, 17,  1, 12, 12, 17, 17,  3,  0,  9,  9,  6,\n",
              "        6, 17,  9,  6,  9, 11,  6, 10,  3,  0, 10,  4,  1, 12, 17,  8,  9,\n",
              "       10,  5,  0, 12, 17,  9,  1, 14, 17,  8,  9,  9, 14, 17,  0, 15,  5,\n",
              "        4, 15, 14, 17, 13,  2, 12,  3,  9,  6,  0, 12,  5,  3, 17, 12, 17,\n",
              "       12, 17, 17,  6, 12, 17,  1,  8,  9, 14, 10,  3, 12,  9,  1,  3,  4,\n",
              "        9, 12,  9,  1,  5, 17,  8, 14, 17, 10,  8, 12,  9, 11,  0, 17, 10,\n",
              "        3, 17,  6, 13,  8, 17, 14, 15,  6, 12, 13, 17, 15, 15, 15, 12,  0,\n",
              "       11, 16,  0,  0,  3, 12,  9, 12, 14,  7])"
            ]
          },
          "metadata": {},
          "execution_count": 10
        }
      ]
    },
    {
      "cell_type": "code",
      "source": [
        "X_train, X_test, y_train, y_test = train_test_split(X, y)"
      ],
      "metadata": {
        "id": "4eYGgC5ITTcr"
      },
      "execution_count": 11,
      "outputs": []
    },
    {
      "cell_type": "code",
      "source": [
        "print('X_train: ' + str(X_train.shape))\n",
        "print('Y_train: ' + str(y_train.shape))\n",
        "print('X_test:  '  + str(X_test.shape))\n",
        "print('Y_test:  '  + str(y_test.shape))"
      ],
      "metadata": {
        "colab": {
          "base_uri": "https://localhost:8080/"
        },
        "id": "zjjxuBlmJHU5",
        "outputId": "b15b3ad4-c4eb-4f9f-c0f8-c7c8f2dbae6e"
      },
      "execution_count": 12,
      "outputs": [
        {
          "output_type": "stream",
          "name": "stdout",
          "text": [
            "X_train: (606, 57600)\n",
            "Y_train: (606,)\n",
            "X_test:  (203, 57600)\n",
            "Y_test:  (203,)\n"
          ]
        }
      ]
    },
    {
      "cell_type": "markdown",
      "source": [
        "## Normalize Data"
      ],
      "metadata": {
        "id": "sQADa1T2MJt4"
      }
    },
    {
      "cell_type": "markdown",
      "source": [
        "$\\rightarrow$ Rescaling RGBO values."
      ],
      "metadata": {
        "id": "sqlHxeqz7-5V"
      }
    },
    {
      "cell_type": "code",
      "source": [
        "print(X_train.max())"
      ],
      "metadata": {
        "colab": {
          "base_uri": "https://localhost:8080/"
        },
        "id": "TqzsYAADJaRu",
        "outputId": "a3abbd70-fa5f-44b6-b73c-233ec11e0dc7"
      },
      "execution_count": 13,
      "outputs": [
        {
          "output_type": "stream",
          "name": "stdout",
          "text": [
            "255.0\n"
          ]
        }
      ]
    },
    {
      "cell_type": "code",
      "source": [
        "X_train_norm = X_train / 255\n",
        "X_test_norm = X_test / 255"
      ],
      "metadata": {
        "id": "YrdrJVAuJZuH"
      },
      "execution_count": 14,
      "outputs": []
    },
    {
      "cell_type": "markdown",
      "source": [
        "## Custom Neural Network"
      ],
      "metadata": {
        "id": "TdLQ2ycpJkLm"
      }
    },
    {
      "cell_type": "markdown",
      "source": [
        "$\\rightarrow$ Building a neural network that an image classifcation model can use to train data on."
      ],
      "metadata": {
        "id": "Y6y04Htc8Hj8"
      }
    },
    {
      "cell_type": "code",
      "source": [
        "!pip install keras_tuner"
      ],
      "metadata": {
        "colab": {
          "base_uri": "https://localhost:8080/"
        },
        "id": "KW1UA6YWJfD7",
        "outputId": "f9384538-5126-4677-fa01-d8cde82d9034"
      },
      "execution_count": 15,
      "outputs": [
        {
          "output_type": "stream",
          "name": "stdout",
          "text": [
            "Collecting keras_tuner\n",
            "  Downloading keras_tuner-1.4.7-py3-none-any.whl (129 kB)\n",
            "\u001b[?25l     \u001b[90m━━━━━━━━━━━━━━━━━━━━━━━━━━━━━━━━━━━━━━━━\u001b[0m \u001b[32m0.0/129.1 kB\u001b[0m \u001b[31m?\u001b[0m eta \u001b[36m-:--:--\u001b[0m\r\u001b[2K     \u001b[90m━━━━━━━━━━━━━━━━━━━━━━━━━━━━━━━━━━━━━━━━\u001b[0m \u001b[32m129.1/129.1 kB\u001b[0m \u001b[31m4.3 MB/s\u001b[0m eta \u001b[36m0:00:00\u001b[0m\n",
            "\u001b[?25hRequirement already satisfied: keras in /usr/local/lib/python3.10/dist-packages (from keras_tuner) (2.15.0)\n",
            "Requirement already satisfied: packaging in /usr/local/lib/python3.10/dist-packages (from keras_tuner) (24.0)\n",
            "Requirement already satisfied: requests in /usr/local/lib/python3.10/dist-packages (from keras_tuner) (2.31.0)\n",
            "Collecting kt-legacy (from keras_tuner)\n",
            "  Downloading kt_legacy-1.0.5-py3-none-any.whl (9.6 kB)\n",
            "Requirement already satisfied: charset-normalizer<4,>=2 in /usr/local/lib/python3.10/dist-packages (from requests->keras_tuner) (3.3.2)\n",
            "Requirement already satisfied: idna<4,>=2.5 in /usr/local/lib/python3.10/dist-packages (from requests->keras_tuner) (3.7)\n",
            "Requirement already satisfied: urllib3<3,>=1.21.1 in /usr/local/lib/python3.10/dist-packages (from requests->keras_tuner) (2.0.7)\n",
            "Requirement already satisfied: certifi>=2017.4.17 in /usr/local/lib/python3.10/dist-packages (from requests->keras_tuner) (2024.6.2)\n",
            "Installing collected packages: kt-legacy, keras_tuner\n",
            "Successfully installed keras_tuner-1.4.7 kt-legacy-1.0.5\n"
          ]
        }
      ]
    },
    {
      "cell_type": "code",
      "source": [
        "import keras\n",
        "import keras_tuner\n",
        "from keras import layers, regularizers\n",
        "from keras.optimizers.legacy import Adam\n",
        "from keras.callbacks import EarlyStopping, TensorBoard"
      ],
      "metadata": {
        "id": "IUw7k9NDJl0p"
      },
      "execution_count": 16,
      "outputs": []
    },
    {
      "cell_type": "code",
      "source": [
        "def define_model(units, num_layers, activation, lr, l2):\n",
        "    model_layers = [\n",
        "        layers.Dense(units, activation=activation, kernel_regularizer=regularizers.L2(l2=l2), kernel_initializer=keras.initializers.HeNormal())\n",
        "        ] * num_layers  # These are the main hidden layers\n",
        "    model_layers += [layers.Dense(18)]  # This is the output layer, which should have the same size as the number of classes you are trying to predict\n",
        "    model = keras.Sequential(model_layers)  # This just stacks all our layers on top of each other\n",
        "    model.compile(loss=keras.losses.SparseCategoricalCrossentropy(from_logits=True), metrics=['accuracy'], optimizer=Adam(learning_rate=lr))  # This is a good loss/penalty function to use for multi-class classification\n",
        "\n",
        "    return model"
      ],
      "metadata": {
        "id": "Boj4JhlyJnsa"
      },
      "execution_count": 17,
      "outputs": []
    },
    {
      "cell_type": "code",
      "source": [
        "def build_model(hp):\n",
        "    units = hp.Choice(\"units\", [1024])\n",
        "    activation = \"relu\"   # We'll just use ReLu for now\n",
        "    lr = hp.Float(\"lr\", min_value=1e-5, max_value=1e-3, sampling=\"log\")\n",
        "    l2 = hp.Float(\"l2\", min_value=1e-5, max_value=1e-3, sampling=\"log\")\n",
        "    num_layers = hp.Choice(\"num_layers\", [2, 3, 4])\n",
        "\n",
        "    # call existing model-building code with the hyperparameter values.\n",
        "    model = define_model(units=units, num_layers=num_layers, activation=activation, lr=lr, l2=l2)\n",
        "    return model"
      ],
      "metadata": {
        "id": "mv85-fYRKIPf"
      },
      "execution_count": 18,
      "outputs": []
    },
    {
      "cell_type": "code",
      "source": [
        "tuner = keras_tuner.BayesianOptimization(\n",
        "    hypermodel=build_model,\n",
        "    objective=\"val_loss\", # We want to see accuracy improve on the validation (or test) dataset\n",
        "    max_trials=8,  # How many parameter combinations you want to try\n",
        "    executions_per_trial=1,\n",
        "    overwrite=False,\n",
        "    directory=\"/content/drive/MyDrive/colab_notebooks/poke_sweep_0\", # Save the output somewhere you've created\n",
        ")"
      ],
      "metadata": {
        "id": "DU1Ytc4MKPh2"
      },
      "execution_count": 20,
      "outputs": []
    },
    {
      "cell_type": "code",
      "source": [
        "# This is a \"callback\" function, which will get called at the end of every epoch to check whether the accuracy is still increasing\n",
        "callbacks = [EarlyStopping(monitor=\"val_loss\", patience=2, restore_best_weights=True, start_from_epoch=4)]"
      ],
      "metadata": {
        "id": "IJnSeYuUKf7T"
      },
      "execution_count": 21,
      "outputs": []
    },
    {
      "cell_type": "code",
      "source": [
        "tuner.search(\n",
        "    X_train_norm,\n",
        "    y_train,\n",
        "    epochs=8,\n",
        "    verbose=1,\n",
        "    validation_data=(X_test_norm, y_test),\n",
        "    callbacks=callbacks\n",
        ")"
      ],
      "metadata": {
        "colab": {
          "base_uri": "https://localhost:8080/"
        },
        "id": "zKWM8d-kKu98",
        "outputId": "20fd6a3c-34d0-40df-8400-cca2af7624cf"
      },
      "execution_count": 22,
      "outputs": [
        {
          "output_type": "stream",
          "name": "stdout",
          "text": [
            "Trial 8 Complete [00h 03m 54s]\n",
            "val_loss: 3.1623222827911377\n",
            "\n",
            "Best val_loss So Far: 2.851358652114868\n",
            "Total elapsed time: 00h 25m 17s\n"
          ]
        }
      ]
    },
    {
      "cell_type": "code",
      "source": [
        "# Examining the results\n",
        "tuner.results_summary(5)  # printing out the top 5 models"
      ],
      "metadata": {
        "colab": {
          "base_uri": "https://localhost:8080/"
        },
        "id": "Eb1CSQuHKyMs",
        "outputId": "65e35a02-d259-4f94-e01e-2cbcdc12efde"
      },
      "execution_count": 23,
      "outputs": [
        {
          "output_type": "stream",
          "name": "stdout",
          "text": [
            "Results summary\n",
            "Results in /content/drive/MyDrive/colab_notebooks/poke_sweep_0/untitled_project\n",
            "Showing 5 best trials\n",
            "Objective(name=\"val_loss\", direction=\"min\")\n",
            "\n",
            "Trial 3 summary\n",
            "Hyperparameters:\n",
            "units: 1024\n",
            "lr: 3.3570553487898416e-05\n",
            "l2: 1.4699244053052159e-05\n",
            "num_layers: 2\n",
            "Score: 2.851358652114868\n",
            "\n",
            "Trial 4 summary\n",
            "Hyperparameters:\n",
            "units: 1024\n",
            "lr: 3.7359938308603774e-05\n",
            "l2: 1.5138520101560535e-05\n",
            "num_layers: 4\n",
            "Score: 2.885114908218384\n",
            "\n",
            "Trial 1 summary\n",
            "Hyperparameters:\n",
            "units: 1024\n",
            "lr: 0.00011699898271783844\n",
            "l2: 1.0865987497113857e-05\n",
            "num_layers: 2\n",
            "Score: 2.8877720832824707\n",
            "\n",
            "Trial 5 summary\n",
            "Hyperparameters:\n",
            "units: 1024\n",
            "lr: 5.159173467296484e-05\n",
            "l2: 6.023443262491292e-05\n",
            "num_layers: 4\n",
            "Score: 2.933765411376953\n",
            "\n",
            "Trial 0 summary\n",
            "Hyperparameters:\n",
            "units: 1024\n",
            "lr: 3.4205294716664114e-05\n",
            "l2: 0.0001389647094981114\n",
            "num_layers: 3\n",
            "Score: 3.095989942550659\n"
          ]
        }
      ]
    },
    {
      "cell_type": "code",
      "source": [
        "# Best model was number 03. Let's load it in to make a prediction\n",
        "import json\n",
        "from sklearn.metrics import confusion_matrix\n",
        "\n",
        "trial_num = \"3\"\n",
        "with open(f\"/content/drive/MyDrive/colab_notebooks/poke_sweep_0/untitled_project/trial_{trial_num}/trial.json\", \"r\") as f:\n",
        "    trial = json.load(f)\n",
        "hp = trial[\"hyperparameters\"][\"values\"]\n",
        "model = define_model(units=hp[\"units\"], num_layers=hp[\"num_layers\"], activation=\"relu\", lr=hp[\"lr\"],\n",
        "                     l2=hp[\"l2\"])\n",
        "model.load_weights(f\"/content/drive/MyDrive/colab_notebooks/poke_sweep_0/untitled_project/trial_{trial_num}/checkpoint\")"
      ],
      "metadata": {
        "colab": {
          "base_uri": "https://localhost:8080/"
        },
        "id": "-jCbca9IK1Aq",
        "outputId": "b7baf326-6038-454d-db82-2aeb6bc30ad0"
      },
      "execution_count": 26,
      "outputs": [
        {
          "output_type": "execute_result",
          "data": {
            "text/plain": [
              "<tensorflow.python.checkpoint.checkpoint.CheckpointLoadStatus at 0x7ca12f5eedd0>"
            ]
          },
          "metadata": {},
          "execution_count": 26
        }
      ]
    },
    {
      "cell_type": "code",
      "source": [
        "y_pred = np.argmax(model.predict(X_test_norm), axis=1)\n",
        "cm = confusion_matrix(y_test, y_pred)\n",
        "accuracy = sum(y_pred == y_test) / len(y_test)\n",
        "print(accuracy)\n",
        "print(cm)"
      ],
      "metadata": {
        "colab": {
          "base_uri": "https://localhost:8080/"
        },
        "id": "ifGQcGhlLFhj",
        "outputId": "7a148a99-5021-4c1c-9a5a-a61eb6a73951"
      },
      "execution_count": 27,
      "outputs": [
        {
          "output_type": "stream",
          "name": "stdout",
          "text": [
            "7/7 [==============================] - 3s 123ms/step\n",
            "0.15763546798029557\n",
            "[[ 1  0  0  0  0  0  1  0  5  1  0  3  0  0  0  1  7]\n",
            " [ 0  0  0  0  0  0  1  0  1  0  0  3  0  0  0  0  1]\n",
            " [ 0  0  0  0  0  0  0  0  1  0  0  3  0  0  0  0  6]\n",
            " [ 1  0  0  0  0  0  0  0  1  0  0  5  0  0  0  0  3]\n",
            " [ 1  0  0  0  0  0  0  0  2  0  0  0  0  0  0  0  1]\n",
            " [ 0  0  0  0  0  0  0  0  1  0  0  5  0  0  0  1  1]\n",
            " [ 0  1  0  0  0  0  2  0  0  1  0  6  0  0  0  0  4]\n",
            " [ 0  0  0  0  0  0  0  0  2  1  0  3  0  0  0  0  3]\n",
            " [ 0  0  0  0  0  0  0  0  3  1  0  9  1  0  0  0  4]\n",
            " [ 0  0  0  0  0  0  0  0  0  1  0  0  0  0  0  0  1]\n",
            " [ 0  0  0  0  0  0  0  0  0  1  0  5  0  0  0  0  6]\n",
            " [ 3  0  0  0  0  0  0  0  1  1  0 12  0  0  0  0 12]\n",
            " [ 1  0  1  0  0  0  0  0  1  0  0  2  0  0  0  0  0]\n",
            " [ 0  0  0  0  0  0  0  0  1  0  0  5  0  0  0  0  3]\n",
            " [ 0  0  0  0  0  0  0  0  1  1  0  7  0  0  0  0  4]\n",
            " [ 0  1  0  0  0  0  0  0  4  1  0  2  0  0  0  0  2]\n",
            " [ 2  0  1  0  0  0  0  0  2  0  0  7  0  0  0  0 13]]\n"
          ]
        }
      ]
    },
    {
      "cell_type": "markdown",
      "source": [
        "Woah, 15% is pretty bad. For context, 1/18 is 5.56%, but 15% is just not a useful model at all. Pokemon that have secondary types could be contributing to the model inaccuracy."
      ],
      "metadata": {
        "id": "mB-EMxFIuVpe"
      }
    },
    {
      "cell_type": "markdown",
      "source": [
        "## Testing the model on only fire, water, and grass pokemon."
      ],
      "metadata": {
        "id": "NHf4vIXzprmM"
      }
    },
    {
      "cell_type": "markdown",
      "source": [
        "$\\rightarrow$ Repeating the process but this time with only fire, water, and grass pokemon."
      ],
      "metadata": {
        "id": "rPQwg0vi8Ud6"
      }
    },
    {
      "cell_type": "code",
      "source": [
        "df.value_counts(subset = 'Type1')"
      ],
      "metadata": {
        "colab": {
          "base_uri": "https://localhost:8080/"
        },
        "id": "oGulWgFtv3zz",
        "outputId": "55156c0c-6c65-4ad0-cbc0-4a76b97fcab5"
      },
      "execution_count": 34,
      "outputs": [
        {
          "output_type": "execute_result",
          "data": {
            "text/plain": [
              "Type1\n",
              "Water       114\n",
              "Normal      105\n",
              "Grass        78\n",
              "Bug          72\n",
              "Fire         53\n",
              "Psychic      53\n",
              "Rock         46\n",
              "Electric     40\n",
              "Poison       34\n",
              "Ground       32\n",
              "Fighting     29\n",
              "Dark         29\n",
              "Ghost        27\n",
              "Dragon       27\n",
              "Steel        26\n",
              "Ice          23\n",
              "Fairy        18\n",
              "Flying        3\n",
              "Name: count, dtype: int64"
            ]
          },
          "metadata": {},
          "execution_count": 34
        }
      ]
    },
    {
      "cell_type": "code",
      "source": [
        "114 + 53 + 78"
      ],
      "metadata": {
        "colab": {
          "base_uri": "https://localhost:8080/"
        },
        "id": "w_tXcUNUwOov",
        "outputId": "c8396544-f862-4905-dab5-3c0c3b3bbe3b"
      },
      "execution_count": 35,
      "outputs": [
        {
          "output_type": "execute_result",
          "data": {
            "text/plain": [
              "245"
            ]
          },
          "metadata": {},
          "execution_count": 35
        }
      ]
    },
    {
      "cell_type": "code",
      "source": [
        "X = np.zeros((245, 57600))\n",
        "ytemp = []\n",
        "j = 0\n",
        "for filepath in files:\n",
        "  pokemon_name = filepath.split(\"/\")[-1].split(\".png\")[0]\n",
        "  type_1 = df.loc[df[\"Name\"] == pokemon_name, \"Type1\"].values.item()\n",
        "  if type_1 in [\"Fire\",\"Water\",\"Grass\"]:\n",
        "    ytemp.append(type_1)\n",
        "    img = imread(filepath)\n",
        "    X[j, :] = img.flatten()\n",
        "    j+=1"
      ],
      "metadata": {
        "id": "RduFylb-qBY_"
      },
      "execution_count": 37,
      "outputs": []
    },
    {
      "cell_type": "code",
      "source": [
        "y = LabelEncoder().fit_transform(ytemp)"
      ],
      "metadata": {
        "id": "nVoeB8qBs76I"
      },
      "execution_count": 39,
      "outputs": []
    },
    {
      "cell_type": "code",
      "source": [
        "y"
      ],
      "metadata": {
        "colab": {
          "base_uri": "https://localhost:8080/"
        },
        "id": "Vg-NSZVyxPA1",
        "outputId": "a0acf443-01d1-4b2f-d457-17a1bd43ad80"
      },
      "execution_count": 42,
      "outputs": [
        {
          "output_type": "execute_result",
          "data": {
            "text/plain": [
              "array([1, 2, 0, 2, 1, 2, 0, 2, 0, 1, 2, 1, 0, 0, 1, 2, 2, 2, 1, 0, 2, 2,\n",
              "       0, 0, 2, 2, 2, 2, 1, 0, 1, 2, 2, 2, 2, 1, 1, 1, 2, 1, 0, 1, 2, 1,\n",
              "       2, 1, 1, 0, 2, 1, 0, 2, 0, 2, 2, 2, 2, 2, 2, 2, 1, 1, 2, 2, 2, 0,\n",
              "       1, 0, 0, 2, 1, 0, 0, 2, 0, 2, 2, 1, 2, 0, 2, 0, 2, 2, 1, 2, 1, 2,\n",
              "       0, 1, 1, 0, 0, 1, 2, 2, 0, 1, 2, 2, 2, 1, 2, 2, 0, 1, 2, 1, 0, 2,\n",
              "       2, 2, 1, 2, 2, 0, 0, 1, 2, 2, 2, 2, 1, 2, 1, 0, 2, 0, 1, 2, 1, 1,\n",
              "       0, 2, 1, 0, 2, 2, 2, 1, 0, 2, 0, 2, 0, 2, 1, 2, 1, 2, 2, 2, 1, 0,\n",
              "       1, 1, 1, 1, 2, 1, 0, 0, 1, 2, 2, 1, 0, 1, 2, 0, 2, 0, 2, 2, 2, 2,\n",
              "       2, 2, 1, 2, 1, 0, 1, 1, 1, 2, 1, 1, 1, 1, 1, 2, 2, 2, 2, 0, 2, 1,\n",
              "       0, 2, 2, 1, 2, 2, 2, 1, 1, 0, 0, 2, 1, 0, 1, 0, 2, 1, 2, 1, 2, 1,\n",
              "       1, 2, 2, 1, 0, 2, 2, 2, 2, 0, 2, 1, 1, 1, 1, 2, 2, 1, 2, 2, 0, 2,\n",
              "       0, 2, 1])"
            ]
          },
          "metadata": {},
          "execution_count": 42
        }
      ]
    },
    {
      "cell_type": "code",
      "source": [
        "X_train, X_test, y_train, y_test = train_test_split(X, y)"
      ],
      "metadata": {
        "id": "rl4LVu2otEzw"
      },
      "execution_count": 40,
      "outputs": []
    },
    {
      "cell_type": "code",
      "source": [
        "print('X_train: ' + str(X_train.shape))\n",
        "print('Y_train: ' + str(y_train.shape))\n",
        "print('X_test:  '  + str(X_test.shape))\n",
        "print('Y_test:  '  + str(y_test.shape))"
      ],
      "metadata": {
        "colab": {
          "base_uri": "https://localhost:8080/"
        },
        "id": "P2m_h9H3tJsr",
        "outputId": "70e94907-c9e5-4019-b932-3af220b4bd88"
      },
      "execution_count": 41,
      "outputs": [
        {
          "output_type": "stream",
          "name": "stdout",
          "text": [
            "X_train: (183, 57600)\n",
            "Y_train: (183,)\n",
            "X_test:  (62, 57600)\n",
            "Y_test:  (62,)\n"
          ]
        }
      ]
    },
    {
      "cell_type": "code",
      "source": [
        "X_train_norm = X_train / 255\n",
        "X_test_norm = X_test / 255"
      ],
      "metadata": {
        "id": "RaRwhHt1tQJZ"
      },
      "execution_count": 43,
      "outputs": []
    },
    {
      "cell_type": "code",
      "source": [
        "def define_model_fwg(units, num_layers, activation, lr, l2):\n",
        "    model_layers = [\n",
        "        layers.Dense(units, activation=activation, kernel_regularizer=regularizers.L2(l2=l2), kernel_initializer=keras.initializers.HeNormal())\n",
        "        ] * num_layers  # These are the main hidden layers\n",
        "    model_layers += [layers.Dense(3)]  # This is the output layer, which should have the same size as the number of classes you are trying to predict\n",
        "    model = keras.Sequential(model_layers)  # This just stacks all our layers on top of each other\n",
        "    model.compile(loss=keras.losses.SparseCategoricalCrossentropy(from_logits=True), metrics=['accuracy'], optimizer=Adam(learning_rate=lr))  # This is a good loss/penalty function to use for multi-class classification\n",
        "\n",
        "    return model"
      ],
      "metadata": {
        "id": "TbDWdk8ZtTQW"
      },
      "execution_count": 44,
      "outputs": []
    },
    {
      "cell_type": "code",
      "source": [
        "def build_model(hp):\n",
        "    units = hp.Choice(\"units\", [256, 512, 1024])\n",
        "    activation = \"relu\"   # We'll just use ReLu for now\n",
        "    lr = hp.Float(\"lr\", min_value=1e-5, max_value=1e-1, sampling=\"log\")\n",
        "    l2 = hp.Float(\"l2\", min_value=1e-5, max_value=1e-1, sampling=\"log\")\n",
        "    num_layers = hp.Choice(\"num_layers\", [2, 3, 4])\n",
        "\n",
        "    # call existing model-building code with the hyperparameter values.\n",
        "    model = define_model(units=units, num_layers=num_layers, activation=activation, lr=lr, l2=l2)\n",
        "    return model"
      ],
      "metadata": {
        "id": "HfpY6xSltZ9R"
      },
      "execution_count": 45,
      "outputs": []
    },
    {
      "cell_type": "code",
      "source": [
        "tuner = keras_tuner.BayesianOptimization(\n",
        "    hypermodel=build_model,\n",
        "    objective=\"val_loss\", # We want to see accuracy improve on the validation (or test) dataset\n",
        "    max_trials=8,  # How many parameter combinations you want to try\n",
        "    executions_per_trial=1,\n",
        "    overwrite=False,\n",
        "    directory=\"/content/drive/MyDrive/colab_notebooks/fwg_sweep_0\", # Save the output somewhere you've created\n",
        ")"
      ],
      "metadata": {
        "id": "e01Vdq6QtpG7"
      },
      "execution_count": 46,
      "outputs": []
    },
    {
      "cell_type": "code",
      "source": [
        "# This is a \"callback\" function, which will get called at the end of every epoch to check whether the accuracy is still increasing\n",
        "callbacks = [EarlyStopping(monitor=\"val_loss\", patience=2, restore_best_weights=True, start_from_epoch=4)]"
      ],
      "metadata": {
        "id": "M9UXK4fTxeQn"
      },
      "execution_count": 47,
      "outputs": []
    },
    {
      "cell_type": "code",
      "source": [
        "tuner.search(\n",
        "    X_train_norm,\n",
        "    y_train,\n",
        "    epochs=8,\n",
        "    verbose=1,\n",
        "    validation_data=(X_test_norm, y_test),\n",
        "    callbacks=callbacks\n",
        ")"
      ],
      "metadata": {
        "colab": {
          "base_uri": "https://localhost:8080/"
        },
        "id": "Vp9t2iIMxiS7",
        "outputId": "79bb075a-ed1d-45ca-cd90-3cb5a3f33082"
      },
      "execution_count": 48,
      "outputs": [
        {
          "output_type": "stream",
          "name": "stdout",
          "text": [
            "Trial 8 Complete [00h 08m 16s]\n",
            "val_loss: 24.34717559814453\n",
            "\n",
            "Best val_loss So Far: 0.9370813965797424\n",
            "Total elapsed time: 00h 22m 35s\n"
          ]
        }
      ]
    },
    {
      "cell_type": "code",
      "source": [
        "tuner.results_summary(5)"
      ],
      "metadata": {
        "colab": {
          "base_uri": "https://localhost:8080/"
        },
        "id": "VTF5JgMr22FD",
        "outputId": "0801a316-ed02-410a-8d2e-cc91879f2223"
      },
      "execution_count": 51,
      "outputs": [
        {
          "output_type": "stream",
          "name": "stdout",
          "text": [
            "Results summary\n",
            "Results in /content/drive/MyDrive/colab_notebooks/fwg_sweep_0/untitled_project\n",
            "Showing 5 best trials\n",
            "Objective(name=\"val_loss\", direction=\"min\")\n",
            "\n",
            "Trial 5 summary\n",
            "Hyperparameters:\n",
            "units: 256\n",
            "lr: 1.372853907446641e-05\n",
            "l2: 1.875673879433594e-05\n",
            "num_layers: 2\n",
            "Score: 0.9370813965797424\n",
            "\n",
            "Trial 0 summary\n",
            "Hyperparameters:\n",
            "units: 512\n",
            "lr: 1.616377548778009e-05\n",
            "l2: 0.00037951310743611957\n",
            "num_layers: 3\n",
            "Score: 1.2652881145477295\n",
            "\n",
            "Trial 3 summary\n",
            "Hyperparameters:\n",
            "units: 256\n",
            "lr: 0.001543252653656617\n",
            "l2: 0.0011516038886190995\n",
            "num_layers: 2\n",
            "Score: 5.097928047180176\n",
            "\n",
            "Trial 1 summary\n",
            "Hyperparameters:\n",
            "units: 1024\n",
            "lr: 0.00020057166716902651\n",
            "l2: 0.005296994219666066\n",
            "num_layers: 2\n",
            "Score: 5.946966171264648\n",
            "\n",
            "Trial 6 summary\n",
            "Hyperparameters:\n",
            "units: 512\n",
            "lr: 0.0020574136136957866\n",
            "l2: 1.0988600943618688e-05\n",
            "num_layers: 2\n",
            "Score: 8.011443138122559\n"
          ]
        }
      ]
    },
    {
      "cell_type": "code",
      "source": [
        "# Best model was number 05. Let's load it in to make a prediction\n",
        "import json\n",
        "from sklearn.metrics import confusion_matrix\n",
        "\n",
        "trial_num = \"5\"\n",
        "with open(f\"/content/drive/MyDrive/colab_notebooks/fwg_sweep_0/untitled_project/trial_{trial_num}/trial.json\", \"r\") as f:\n",
        "    trial = json.load(f)\n",
        "hp = trial[\"hyperparameters\"][\"values\"]\n",
        "model = define_model(units=hp[\"units\"], num_layers=hp[\"num_layers\"], activation=\"relu\", lr=hp[\"lr\"],\n",
        "                     l2=hp[\"l2\"])\n",
        "model.load_weights(f\"/content/drive/MyDrive/colab_notebooks/fwg_sweep_0/untitled_project/trial_{trial_num}/checkpoint\")"
      ],
      "metadata": {
        "colab": {
          "base_uri": "https://localhost:8080/"
        },
        "id": "W8N-TsUOyXsn",
        "outputId": "affae038-546d-4f71-ff4a-6fa73969448c"
      },
      "execution_count": 52,
      "outputs": [
        {
          "output_type": "execute_result",
          "data": {
            "text/plain": [
              "<tensorflow.python.checkpoint.checkpoint.CheckpointLoadStatus at 0x7ca1b2436aa0>"
            ]
          },
          "metadata": {},
          "execution_count": 52
        }
      ]
    },
    {
      "cell_type": "code",
      "source": [
        "y_pred = np.argmax(model.predict(X_test_norm), axis=1)\n",
        "cm = confusion_matrix(y_test, y_pred)\n",
        "accuracy = sum(y_pred == y_test) / len(y_test)\n",
        "print(accuracy)\n",
        "print(cm)"
      ],
      "metadata": {
        "colab": {
          "base_uri": "https://localhost:8080/"
        },
        "id": "el12x-pzye-B",
        "outputId": "a0c49a7b-9d88-4c49-e98e-03df6835e932"
      },
      "execution_count": 53,
      "outputs": [
        {
          "output_type": "stream",
          "name": "stdout",
          "text": [
            "2/2 [==============================] - 1s 29ms/step\n",
            "0.5806451612903226\n",
            "[[ 6  7  1]\n",
            " [ 2  5 13]\n",
            " [ 0  3 25]]\n"
          ]
        }
      ]
    },
    {
      "cell_type": "markdown",
      "source": [
        "Well, 58% is not that good but it's a good enough improvement from 15%."
      ],
      "metadata": {
        "id": "DJDZ6hM93ADf"
      }
    },
    {
      "cell_type": "markdown",
      "source": [
        "## Conclusion"
      ],
      "metadata": {
        "id": "2OPNTusc8ZBM"
      }
    },
    {
      "cell_type": "markdown",
      "source": [
        "Overall, the model struggled to identify pokemon types. This may not be so surprising because pokemon the model relies on colors to identify images. Although there can be correlations between pokemon colors and their types, pokemon designs are highly varied, most of them incorporating multiple dominant colors, especially if they are a dual type pokemon.\n",
        "\n",
        "Predictably, the model does a much better job when the pool of pokemon is filtered to only include primary types of Fire, Water, and Grass. These colors should be easy to distinguish because the image types are RGBO, but the model results are still slightly underwhelming wiht only 58% overall accuracy.\n",
        "\n",
        "For further model improvements, the images could be resized to have smaller pixel dimensions so the pokemon's dominant colors are more emphasized. And with smaller parameters, more trials can be ran for the model to train better."
      ],
      "metadata": {
        "id": "iCSCZq5p8aeC"
      }
    },
    {
      "cell_type": "code",
      "source": [],
      "metadata": {
        "id": "N__0babA9Q5C"
      },
      "execution_count": null,
      "outputs": []
    }
  ]
}